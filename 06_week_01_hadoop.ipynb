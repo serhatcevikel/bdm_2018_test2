{
 "cells": [
  {
   "cell_type": "code",
   "execution_count": 1,
   "metadata": {},
   "outputs": [],
   "source": [
    "sudo chown -R hadoop:hadoop /opt/hadoop-2.9.2/"
   ]
  },
  {
   "cell_type": "code",
   "execution_count": 2,
   "metadata": {},
   "outputs": [],
   "source": [
    "sudo chown -R hadoop:hadoop /hadoop-data"
   ]
  },
  {
   "cell_type": "code",
   "execution_count": 3,
   "metadata": {},
   "outputs": [],
   "source": [
    "sudo chmod 755 /hadoop-data"
   ]
  },
  {
   "cell_type": "code",
   "execution_count": 4,
   "metadata": {},
   "outputs": [],
   "source": [
    "ssh-keygen -b 2048 -t rsa -f ~/.ssh/id_rsa -q -N \"\""
   ]
  },
  {
   "cell_type": "code",
   "execution_count": 5,
   "metadata": {},
   "outputs": [],
   "source": [
    "cp ~/.ssh/id_rsa.pub ~/.ssh/authorized_keys"
   ]
  },
  {
   "cell_type": "code",
   "execution_count": 6,
   "metadata": {},
   "outputs": [],
   "source": [
    "sudo sed -i '/^#PubkeyAuthentication/ s/^#//' /etc/ssh/sshd_config\n",
    "sudo sed -i '/^#PermitRootLogin/ s/^#//' /etc/ssh/sshd_config"
   ]
  },
  {
   "cell_type": "code",
   "execution_count": 7,
   "metadata": {},
   "outputs": [],
   "source": [
    "sudo sed -i '/StrictHostKeyChecking/ s/^#//' /etc/ssh/ssh_config\n",
    "sudo sed -i '/StrictHostKeyChecking/ s/ask/no/' /etc/ssh/ssh_config"
   ]
  },
  {
   "cell_type": "code",
   "execution_count": 8,
   "metadata": {},
   "outputs": [
    {
     "name": "stdout",
     "output_type": "stream",
     "text": [
      "Stopping OpenBSD Secure Shell server: sshd.\n",
      "Starting OpenBSD Secure Shell server: sshd.\n"
     ]
    }
   ],
   "source": [
    "sudo service ssh stop\n",
    "sudo service ssh start"
   ]
  },
  {
   "cell_type": "code",
   "execution_count": 9,
   "metadata": {},
   "outputs": [],
   "source": [
    "cp hadoop_config/*.xml /etc/hadoop"
   ]
  },
  {
   "cell_type": "code",
   "execution_count": 12,
   "metadata": {},
   "outputs": [
    {
     "name": "stdout",
     "output_type": "stream",
     "text": [
      "-rw-r--r-- 1 hadoop hadoop  1066 Dec 16 00:43 /etc/hadoop/mapred-site.xml\n",
      "-rw-r--r-- 1 hadoop hadoop  1153 Dec 16 00:43 /etc/hadoop/hdfs-site.xml\n",
      "-rw-r--r-- 1 hadoop hadoop  1206 Dec 16 00:43 /etc/hadoop/core-site.xml\n",
      "-rw-r--r-- 1 hadoop hadoop  1335 Nov 13 15:15 /etc/hadoop/configuration.xsl\n",
      "-rw-r--r-- 1 hadoop hadoop  1076 Nov 13 15:15 /etc/hadoop/mapred-env.cmd\n",
      "-rw-r--r-- 1 hadoop hadoop  1507 Nov 13 15:15 /etc/hadoop/mapred-env.sh\n",
      "-rw-r--r-- 1 hadoop hadoop  4113 Nov 13 15:15 /etc/hadoop/mapred-queues.xml.template\n",
      "-rw-r--r-- 1 hadoop hadoop   758 Nov 13 15:15 /etc/hadoop/mapred-site.xml.template\n",
      "-rw-r--r-- 1 hadoop hadoop  7861 Nov 13 15:15 /etc/hadoop/capacity-scheduler.xml\n",
      "-rw-r--r-- 1 hadoop hadoop  1211 Nov 13 15:15 /etc/hadoop/container-executor.cfg\n"
     ]
    }
   ],
   "source": [
    "ls -lt /etc/hadoop/* | head"
   ]
  },
  {
   "cell_type": "code",
   "execution_count": 10,
   "metadata": {},
   "outputs": [
    {
     "name": "stdout",
     "output_type": "stream",
     "text": [
      "total 8\n",
      "drwxr-xr-x 1 hadoop hadoop 4096 Dec 16 00:22 hadoop\n"
     ]
    }
   ],
   "source": [
    "ls -l /opt/hadoop-2.9.2/etc"
   ]
  },
  {
   "cell_type": "code",
   "execution_count": 13,
   "metadata": {},
   "outputs": [],
   "source": [
    "HADOOP_HOME=$HADOOP_PREFIX\n",
    "PATH=$HADOOP_PREFIX/bin:$HADOOP_PREFIX/sbin:$PATH"
   ]
  },
  {
   "cell_type": "code",
   "execution_count": 14,
   "metadata": {},
   "outputs": [
    {
     "name": "stdout",
     "output_type": "stream",
     "text": [
      "18/12/16 00:44:22 INFO namenode.NameNode: STARTUP_MSG: \n",
      "/************************************************************\n",
      "STARTUP_MSG: Starting NameNode\n",
      "STARTUP_MSG:   host = jupyter-serhatcevikel-2dbdm-5f2018-5ftest2-2dxd78knt3/10.12.12.12\n",
      "STARTUP_MSG:   args = [-format]\n",
      "STARTUP_MSG:   version = 2.9.2\n",
      "STARTUP_MSG:   classpath = /etc/hadoop:/opt/hadoop-2.9.2/share/hadoop/common/lib/commons-io-2.4.jar:/opt/hadoop-2.9.2/share/hadoop/common/lib/jsch-0.1.54.jar:/opt/hadoop-2.9.2/share/hadoop/common/lib/paranamer-2.3.jar:/opt/hadoop-2.9.2/share/hadoop/common/lib/servlet-api-2.5.jar:/opt/hadoop-2.9.2/share/hadoop/common/lib/jaxb-impl-2.2.3-1.jar:/opt/hadoop-2.9.2/share/hadoop/common/lib/json-smart-1.3.1.jar:/opt/hadoop-2.9.2/share/hadoop/common/lib/apacheds-i18n-2.0.0-M15.jar:/opt/hadoop-2.9.2/share/hadoop/common/lib/jetty-util-6.1.26.jar:/opt/hadoop-2.9.2/share/hadoop/common/lib/commons-cli-1.2.jar:/opt/hadoop-2.9.2/share/hadoop/common/lib/log4j-1.2.17.jar:/opt/hadoop-2.9.2/share/hadoop/common/lib/jcip-annotations-1.0-1.jar:/opt/hadoop-2.9.2/share/hadoop/common/lib/asm-3.2.jar:/opt/hadoop-2.9.2/share/hadoop/common/lib/jetty-6.1.26.jar:/opt/hadoop-2.9.2/share/hadoop/common/lib/junit-4.11.jar:/opt/hadoop-2.9.2/share/hadoop/common/lib/api-asn1-api-1.0.0-M20.jar:/opt/hadoop-2.9.2/share/hadoop/common/lib/hadoop-annotations-2.9.2.jar:/opt/hadoop-2.9.2/share/hadoop/common/lib/commons-collections-3.2.2.jar:/opt/hadoop-2.9.2/share/hadoop/common/lib/jsp-api-2.1.jar:/opt/hadoop-2.9.2/share/hadoop/common/lib/httpclient-4.5.2.jar:/opt/hadoop-2.9.2/share/hadoop/common/lib/zookeeper-3.4.6.jar:/opt/hadoop-2.9.2/share/hadoop/common/lib/nimbus-jose-jwt-4.41.1.jar:/opt/hadoop-2.9.2/share/hadoop/common/lib/gson-2.2.4.jar:/opt/hadoop-2.9.2/share/hadoop/common/lib/commons-math3-3.1.1.jar:/opt/hadoop-2.9.2/share/hadoop/common/lib/jsr305-3.0.0.jar:/opt/hadoop-2.9.2/share/hadoop/common/lib/htrace-core4-4.1.0-incubating.jar:/opt/hadoop-2.9.2/share/hadoop/common/lib/jackson-mapper-asl-1.9.13.jar:/opt/hadoop-2.9.2/share/hadoop/common/lib/slf4j-log4j12-1.7.25.jar:/opt/hadoop-2.9.2/share/hadoop/common/lib/jetty-sslengine-6.1.26.jar:/opt/hadoop-2.9.2/share/hadoop/common/lib/commons-lang3-3.4.jar:/opt/hadoop-2.9.2/share/hadoop/common/lib/apacheds-kerberos-codec-2.0.0-M15.jar:/opt/hadoop-2.9.2/share/hadoop/common/lib/activation-1.1.jar:/opt/hadoop-2.9.2/share/hadoop/common/lib/commons-net-3.1.jar:/opt/hadoop-2.9.2/share/hadoop/common/lib/jersey-json-1.9.jar:/opt/hadoop-2.9.2/share/hadoop/common/lib/avro-1.7.7.jar:/opt/hadoop-2.9.2/share/hadoop/common/lib/woodstox-core-5.0.3.jar:/opt/hadoop-2.9.2/share/hadoop/common/lib/jackson-jaxrs-1.9.13.jar:/opt/hadoop-2.9.2/share/hadoop/common/lib/java-xmlbuilder-0.4.jar:/opt/hadoop-2.9.2/share/hadoop/common/lib/guava-11.0.2.jar:/opt/hadoop-2.9.2/share/hadoop/common/lib/jaxb-api-2.2.2.jar:/opt/hadoop-2.9.2/share/hadoop/common/lib/jackson-xc-1.9.13.jar:/opt/hadoop-2.9.2/share/hadoop/common/lib/commons-configuration-1.6.jar:/opt/hadoop-2.9.2/share/hadoop/common/lib/mockito-all-1.8.5.jar:/opt/hadoop-2.9.2/share/hadoop/common/lib/protobuf-java-2.5.0.jar:/opt/hadoop-2.9.2/share/hadoop/common/lib/commons-compress-1.4.1.jar:/opt/hadoop-2.9.2/share/hadoop/common/lib/stax2-api-3.1.4.jar:/opt/hadoop-2.9.2/share/hadoop/common/lib/curator-recipes-2.7.1.jar:/opt/hadoop-2.9.2/share/hadoop/common/lib/netty-3.6.2.Final.jar:/opt/hadoop-2.9.2/share/hadoop/common/lib/jersey-server-1.9.jar:/opt/hadoop-2.9.2/share/hadoop/common/lib/snappy-java-1.0.5.jar:/opt/hadoop-2.9.2/share/hadoop/common/lib/curator-client-2.7.1.jar:/opt/hadoop-2.9.2/share/hadoop/common/lib/jets3t-0.9.0.jar:/opt/hadoop-2.9.2/share/hadoop/common/lib/stax-api-1.0-2.jar:/opt/hadoop-2.9.2/share/hadoop/common/lib/httpcore-4.4.4.jar:/opt/hadoop-2.9.2/share/hadoop/common/lib/commons-beanutils-1.7.0.jar:/opt/hadoop-2.9.2/share/hadoop/common/lib/commons-logging-1.1.3.jar:/opt/hadoop-2.9.2/share/hadoop/common/lib/xmlenc-0.52.jar:/opt/hadoop-2.9.2/share/hadoop/common/lib/curator-framework-2.7.1.jar:/opt/hadoop-2.9.2/share/hadoop/common/lib/api-util-1.0.0-M20.jar:/opt/hadoop-2.9.2/share/hadoop/common/lib/xz-1.0.jar:/opt/hadoop-2.9.2/share/hadoop/common/lib/slf4j-api-1.7.25.jar:/opt/hadoop-2.9.2/share/hadoop/common/lib/jackson-core-asl-1.9.13.jar:/opt/hadoop-2.9.2/share/hadoop/common/lib/commons-beanutils-core-1.8.0.jar:/opt/hadoop-2.9.2/share/hadoop/common/lib/commons-lang-2.6.jar:/opt/hadoop-2.9.2/share/hadoop/common/lib/hadoop-auth-2.9.2.jar:/opt/hadoop-2.9.2/share/hadoop/common/lib/commons-digester-1.8.jar:/opt/hadoop-2.9.2/share/hadoop/common/lib/jettison-1.1.jar:/opt/hadoop-2.9.2/share/hadoop/common/lib/jersey-core-1.9.jar:/opt/hadoop-2.9.2/share/hadoop/common/lib/hamcrest-core-1.3.jar:/opt/hadoop-2.9.2/share/hadoop/common/lib/commons-codec-1.4.jar:/opt/hadoop-2.9.2/share/hadoop/common/hadoop-common-2.9.2.jar:/opt/hadoop-2.9.2/share/hadoop/common/hadoop-common-2.9.2-tests.jar:/opt/hadoop-2.9.2/share/hadoop/common/hadoop-nfs-2.9.2.jar:/opt/hadoop-2.9.2/share/hadoop/hdfs:/opt/hadoop-2.9.2/share/hadoop/hdfs/lib/commons-io-2.4.jar:/opt/hadoop-2.9.2/share/hadoop/hdfs/lib/servlet-api-2.5.jar:/opt/hadoop-2.9.2/share/hadoop/hdfs/lib/okhttp-2.7.5.jar:/opt/hadoop-2.9.2/share/hadoop/hdfs/lib/jetty-util-6.1.26.jar:/opt/hadoop-2.9.2/share/hadoop/hdfs/lib/commons-cli-1.2.jar:/opt/hadoop-2.9.2/share/hadoop/hdfs/lib/log4j-1.2.17.jar:/opt/hadoop-2.9.2/share/hadoop/hdfs/lib/jackson-annotations-2.7.8.jar:/opt/hadoop-2.9.2/share/hadoop/hdfs/lib/hadoop-hdfs-client-2.9.2.jar:/opt/hadoop-2.9.2/share/hadoop/hdfs/lib/asm-3.2.jar:/opt/hadoop-2.9.2/share/hadoop/hdfs/lib/jetty-6.1.26.jar:/opt/hadoop-2.9.2/share/hadoop/hdfs/lib/netty-all-4.0.23.Final.jar:/opt/hadoop-2.9.2/share/hadoop/hdfs/lib/jsr305-3.0.0.jar:/opt/hadoop-2.9.2/share/hadoop/hdfs/lib/htrace-core4-4.1.0-incubating.jar:/opt/hadoop-2.9.2/share/hadoop/hdfs/lib/jackson-mapper-asl-1.9.13.jar:/opt/hadoop-2.9.2/share/hadoop/hdfs/lib/commons-daemon-1.0.13.jar:/opt/hadoop-2.9.2/share/hadoop/hdfs/lib/guava-11.0.2.jar:/opt/hadoop-2.9.2/share/hadoop/hdfs/lib/okio-1.6.0.jar:/opt/hadoop-2.9.2/share/hadoop/hdfs/lib/protobuf-java-2.5.0.jar:/opt/hadoop-2.9.2/share/hadoop/hdfs/lib/netty-3.6.2.Final.jar:/opt/hadoop-2.9.2/share/hadoop/hdfs/lib/jersey-server-1.9.jar:/opt/hadoop-2.9.2/share/hadoop/hdfs/lib/xml-apis-1.3.04.jar:/opt/hadoop-2.9.2/share/hadoop/hdfs/lib/jackson-core-2.7.8.jar:/opt/hadoop-2.9.2/share/hadoop/hdfs/lib/xercesImpl-2.9.1.jar:/opt/hadoop-2.9.2/share/hadoop/hdfs/lib/commons-logging-1.1.3.jar:/opt/hadoop-2.9.2/share/hadoop/hdfs/lib/xmlenc-0.52.jar:/opt/hadoop-2.9.2/share/hadoop/hdfs/lib/jackson-core-asl-1.9.13.jar:/opt/hadoop-2.9.2/share/hadoop/hdfs/lib/leveldbjni-all-1.8.jar:/opt/hadoop-2.9.2/share/hadoop/hdfs/lib/commons-lang-2.6.jar:/opt/hadoop-2.9.2/share/hadoop/hdfs/lib/jackson-databind-2.7.8.jar:/opt/hadoop-2.9.2/share/hadoop/hdfs/lib/jersey-core-1.9.jar:/opt/hadoop-2.9.2/share/hadoop/hdfs/lib/commons-codec-1.4.jar:/opt/hadoop-2.9.2/share/hadoop/hdfs/hadoop-hdfs-nfs-2.9.2.jar:/opt/hadoop-2.9.2/share/hadoop/hdfs/hadoop-hdfs-client-2.9.2.jar:/opt/hadoop-2.9.2/share/hadoop/hdfs/hadoop-hdfs-2.9.2.jar:/opt/hadoop-2.9.2/share/hadoop/hdfs/hadoop-hdfs-rbf-2.9.2-tests.jar:/opt/hadoop-2.9.2/share/hadoop/hdfs/hadoop-hdfs-rbf-2.9.2.jar:/opt/hadoop-2.9.2/share/hadoop/hdfs/hadoop-hdfs-2.9.2-tests.jar:/opt/hadoop-2.9.2/share/hadoop/hdfs/hadoop-hdfs-client-2.9.2-tests.jar:/opt/hadoop-2.9.2/share/hadoop/hdfs/hadoop-hdfs-native-client-2.9.2.jar:/opt/hadoop-2.9.2/share/hadoop/hdfs/hadoop-hdfs-native-client-2.9.2-tests.jar:/opt/hadoop-2.9.2/share/hadoop/yarn:/opt/hadoop-2.9.2/share/hadoop/yarn/lib/json-io-2.5.1.jar:/opt/hadoop-2.9.2/share/hadoop/yarn/lib/commons-io-2.4.jar:/opt/hadoop-2.9.2/share/hadoop/yarn/lib/jersey-guice-1.9.jar:/opt/hadoop-2.9.2/share/hadoop/yarn/lib/geronimo-jcache_1.0_spec-1.0-alpha-1.jar:/opt/hadoop-2.9.2/share/hadoop/yarn/lib/java-util-1.9.0.jar:/opt/hadoop-2.9.2/share/hadoop/yarn/lib/jsch-0.1.54.jar:/opt/hadoop-2.9.2/share/hadoop/yarn/lib/paranamer-2.3.jar:/opt/hadoop-2.9.2/share/hadoop/yarn/lib/servlet-api-2.5.jar:/opt/hadoop-2.9.2/share/hadoop/yarn/lib/jaxb-impl-2.2.3-1.jar:/opt/hadoop-2.9.2/share/hadoop/yarn/lib/json-smart-1.3.1.jar:/opt/hadoop-2.9.2/share/hadoop/yarn/lib/apacheds-i18n-2.0.0-M15.jar:/opt/hadoop-2.9.2/share/hadoop/yarn/lib/jetty-util-6.1.26.jar:/opt/hadoop-2.9.2/share/hadoop/yarn/lib/commons-cli-1.2.jar:/opt/hadoop-2.9.2/share/hadoop/yarn/lib/ehcache-3.3.1.jar:/opt/hadoop-2.9.2/share/hadoop/yarn/lib/log4j-1.2.17.jar:/opt/hadoop-2.9.2/share/hadoop/yarn/lib/aopalliance-1.0.jar:/opt/hadoop-2.9.2/share/hadoop/yarn/lib/jcip-annotations-1.0-1.jar:/opt/hadoop-2.9.2/share/hadoop/yarn/lib/asm-3.2.jar:/opt/hadoop-2.9.2/share/hadoop/yarn/lib/jetty-6.1.26.jar:/opt/hadoop-2.9.2/share/hadoop/yarn/lib/api-asn1-api-1.0.0-M20.jar:/opt/hadoop-2.9.2/share/hadoop/yarn/lib/commons-collections-3.2.2.jar:/opt/hadoop-2.9.2/share/hadoop/yarn/lib/javax.inject-1.jar:/opt/hadoop-2.9.2/share/hadoop/yarn/lib/jsp-api-2.1.jar:/opt/hadoop-2.9.2/share/hadoop/yarn/lib/httpclient-4.5.2.jar:/opt/hadoop-2.9.2/share/hadoop/yarn/lib/zookeeper-3.4.6.jar:/opt/hadoop-2.9.2/share/hadoop/yarn/lib/nimbus-jose-jwt-4.41.1.jar:/opt/hadoop-2.9.2/share/hadoop/yarn/lib/gson-2.2.4.jar:/opt/hadoop-2.9.2/share/hadoop/yarn/lib/commons-math3-3.1.1.jar:/opt/hadoop-2.9.2/share/hadoop/yarn/lib/jsr305-3.0.0.jar:/opt/hadoop-2.9.2/share/hadoop/yarn/lib/htrace-core4-4.1.0-incubating.jar:/opt/hadoop-2.9.2/share/hadoop/yarn/lib/jackson-mapper-asl-1.9.13.jar:/opt/hadoop-2.9.2/share/hadoop/yarn/lib/HikariCP-java7-2.4.12.jar:/opt/hadoop-2.9.2/share/hadoop/yarn/lib/jetty-sslengine-6.1.26.jar:/opt/hadoop-2.9.2/share/hadoop/yarn/lib/commons-lang3-3.4.jar:/opt/hadoop-2.9.2/share/hadoop/yarn/lib/apacheds-kerberos-codec-2.0.0-M15.jar:/opt/hadoop-2.9.2/share/hadoop/yarn/lib/jersey-client-1.9.jar:/opt/hadoop-2.9.2/share/hadoop/yarn/lib/activation-1.1.jar:/opt/hadoop-2.9.2/share/hadoop/yarn/lib/commons-net-3.1.jar:/opt/hadoop-2.9.2/share/hadoop/yarn/lib/jersey-json-1.9.jar:/opt/hadoop-2.9.2/share/hadoop/yarn/lib/avro-1.7.7.jar:/opt/hadoop-2.9.2/share/hadoop/yarn/lib/woodstox-core-5.0.3.jar:/opt/hadoop-2.9.2/share/hadoop/yarn/lib/jackson-jaxrs-1.9.13.jar:/opt/hadoop-2.9.2/share/hadoop/yarn/lib/java-xmlbuilder-0.4.jar:/opt/hadoop-2.9.2/share/hadoop/yarn/lib/guava-11.0.2.jar:/opt/hadoop-2.9.2/share/hadoop/yarn/lib/jaxb-api-2.2.2.jar:/opt/hadoop-2.9.2/share/hadoop/yarn/lib/jackson-xc-1.9.13.jar:/opt/hadoop-2.9.2/share/hadoop/yarn/lib/guice-servlet-3.0.jar:/opt/hadoop-2.9.2/share/hadoop/yarn/lib/commons-configuration-1.6.jar:/opt/hadoop-2.9.2/share/hadoop/yarn/lib/guice-3.0.jar:/opt/hadoop-2.9.2/share/hadoop/yarn/lib/protobuf-java-2.5.0.jar:/opt/hadoop-2.9.2/share/hadoop/yarn/lib/commons-compress-1.4.1.jar:/opt/hadoop-2.9.2/share/hadoop/yarn/lib/stax2-api-3.1.4.jar:/opt/hadoop-2.9.2/share/hadoop/yarn/lib/curator-recipes-2.7.1.jar:/opt/hadoop-2.9.2/share/hadoop/yarn/lib/netty-3.6.2.Final.jar:/opt/hadoop-2.9.2/share/hadoop/yarn/lib/jersey-server-1.9.jar:/opt/hadoop-2.9.2/share/hadoop/yarn/lib/snappy-java-1.0.5.jar:/opt/hadoop-2.9.2/share/hadoop/yarn/lib/curator-client-2.7.1.jar:/opt/hadoop-2.9.2/share/hadoop/yarn/lib/jets3t-0.9.0.jar:/opt/hadoop-2.9.2/share/hadoop/yarn/lib/stax-api-1.0-2.jar:/opt/hadoop-2.9.2/share/hadoop/yarn/lib/httpcore-4.4.4.jar:/opt/hadoop-2.9.2/share/hadoop/yarn/lib/commons-beanutils-1.7.0.jar:/opt/hadoop-2.9.2/share/hadoop/yarn/lib/fst-2.50.jar:/opt/hadoop-2.9.2/share/hadoop/yarn/lib/commons-logging-1.1.3.jar:/opt/hadoop-2.9.2/share/hadoop/yarn/lib/xmlenc-0.52.jar:/opt/hadoop-2.9.2/share/hadoop/yarn/lib/metrics-core-3.0.1.jar:/opt/hadoop-2.9.2/share/hadoop/yarn/lib/curator-framework-2.7.1.jar:/opt/hadoop-2.9.2/share/hadoop/yarn/lib/api-util-1.0.0-M20.jar:/opt/hadoop-2.9.2/share/hadoop/yarn/lib/xz-1.0.jar:/opt/hadoop-2.9.2/share/hadoop/yarn/lib/mssql-jdbc-6.2.1.jre7.jar:/opt/hadoop-2.9.2/share/hadoop/yarn/lib/jackson-core-asl-1.9.13.jar:/opt/hadoop-2.9.2/share/hadoop/yarn/lib/commons-beanutils-core-1.8.0.jar:/opt/hadoop-2.9.2/share/hadoop/yarn/lib/leveldbjni-all-1.8.jar:/opt/hadoop-2.9.2/share/hadoop/yarn/lib/commons-lang-2.6.jar:/opt/hadoop-2.9.2/share/hadoop/yarn/lib/commons-digester-1.8.jar:/opt/hadoop-2.9.2/share/hadoop/yarn/lib/jettison-1.1.jar:/opt/hadoop-2.9.2/share/hadoop/yarn/lib/jersey-core-1.9.jar:/opt/hadoop-2.9.2/share/hadoop/yarn/lib/commons-codec-1.4.jar:/opt/hadoop-2.9.2/share/hadoop/yarn/hadoop-yarn-applications-unmanaged-am-launcher-2.9.2.jar:/opt/hadoop-2.9.2/share/hadoop/yarn/hadoop-yarn-applications-distributedshell-2.9.2.jar:/opt/hadoop-2.9.2/share/hadoop/yarn/hadoop-yarn-server-web-proxy-2.9.2.jar:/opt/hadoop-2.9.2/share/hadoop/yarn/hadoop-yarn-server-timeline-pluginstorage-2.9.2.jar:/opt/hadoop-2.9.2/share/hadoop/yarn/hadoop-yarn-server-applicationhistoryservice-2.9.2.jar:/opt/hadoop-2.9.2/share/hadoop/yarn/hadoop-yarn-server-common-2.9.2.jar:/opt/hadoop-2.9.2/share/hadoop/yarn/hadoop-yarn-registry-2.9.2.jar:/opt/hadoop-2.9.2/share/hadoop/yarn/hadoop-yarn-server-resourcemanager-2.9.2.jar:/opt/hadoop-2.9.2/share/hadoop/yarn/hadoop-yarn-client-2.9.2.jar:/opt/hadoop-2.9.2/share/hadoop/yarn/hadoop-yarn-common-2.9.2.jar:/opt/hadoop-2.9.2/share/hadoop/yarn/hadoop-yarn-api-2.9.2.jar:/opt/hadoop-2.9.2/share/hadoop/yarn/hadoop-yarn-server-sharedcachemanager-2.9.2.jar:/opt/hadoop-2.9.2/share/hadoop/yarn/hadoop-yarn-server-nodemanager-2.9.2.jar:/opt/hadoop-2.9.2/share/hadoop/yarn/hadoop-yarn-server-router-2.9.2.jar:/opt/hadoop-2.9.2/share/hadoop/yarn/hadoop-yarn-server-tests-2.9.2.jar:/opt/hadoop-2.9.2/share/hadoop/mapreduce/lib/commons-io-2.4.jar:/opt/hadoop-2.9.2/share/hadoop/mapreduce/lib/jersey-guice-1.9.jar:/opt/hadoop-2.9.2/share/hadoop/mapreduce/lib/paranamer-2.3.jar:/opt/hadoop-2.9.2/share/hadoop/mapreduce/lib/log4j-1.2.17.jar:/opt/hadoop-2.9.2/share/hadoop/mapreduce/lib/aopalliance-1.0.jar:/opt/hadoop-2.9.2/share/hadoop/mapreduce/lib/asm-3.2.jar:/opt/hadoop-2.9.2/share/hadoop/mapreduce/lib/junit-4.11.jar:/opt/hadoop-2.9.2/share/hadoop/mapreduce/lib/hadoop-annotations-2.9.2.jar:/opt/hadoop-2.9.2/share/hadoop/mapreduce/lib/javax.inject-1.jar:/opt/hadoop-2.9.2/share/hadoop/mapreduce/lib/jackson-mapper-asl-1.9.13.jar:/opt/hadoop-2.9.2/share/hadoop/mapreduce/lib/avro-1.7.7.jar:/opt/hadoop-2.9.2/share/hadoop/mapreduce/lib/guice-servlet-3.0.jar:/opt/hadoop-2.9.2/share/hadoop/mapreduce/lib/guice-3.0.jar:/opt/hadoop-2.9.2/share/hadoop/mapreduce/lib/protobuf-java-2.5.0.jar:/opt/hadoop-2.9.2/share/hadoop/mapreduce/lib/commons-compress-1.4.1.jar:/opt/hadoop-2.9.2/share/hadoop/mapreduce/lib/netty-3.6.2.Final.jar:/opt/hadoop-2.9.2/share/hadoop/mapreduce/lib/jersey-server-1.9.jar:/opt/hadoop-2.9.2/share/hadoop/mapreduce/lib/snappy-java-1.0.5.jar:/opt/hadoop-2.9.2/share/hadoop/mapreduce/lib/xz-1.0.jar:/opt/hadoop-2.9.2/share/hadoop/mapreduce/lib/jackson-core-asl-1.9.13.jar:/opt/hadoop-2.9.2/share/hadoop/mapreduce/lib/leveldbjni-all-1.8.jar:/opt/hadoop-2.9.2/share/hadoop/mapreduce/lib/jersey-core-1.9.jar:/opt/hadoop-2.9.2/share/hadoop/mapreduce/lib/hamcrest-core-1.3.jar:/opt/hadoop-2.9.2/share/hadoop/mapreduce/hadoop-mapreduce-client-hs-plugins-2.9.2.jar:/opt/hadoop-2.9.2/share/hadoop/mapreduce/hadoop-mapreduce-client-shuffle-2.9.2.jar:/opt/hadoop-2.9.2/share/hadoop/mapreduce/hadoop-mapreduce-client-hs-2.9.2.jar:/opt/hadoop-2.9.2/share/hadoop/mapreduce/hadoop-mapreduce-client-jobclient-2.9.2-tests.jar:/opt/hadoop-2.9.2/share/hadoop/mapreduce/hadoop-mapreduce-client-common-2.9.2.jar:/opt/hadoop-2.9.2/share/hadoop/mapreduce/hadoop-mapreduce-client-jobclient-2.9.2.jar:/opt/hadoop-2.9.2/share/hadoop/mapreduce/hadoop-mapreduce-client-app-2.9.2.jar:/opt/hadoop-2.9.2/share/hadoop/mapreduce/hadoop-mapreduce-examples-2.9.2.jar:/opt/hadoop-2.9.2/share/hadoop/mapreduce/hadoop-mapreduce-client-core-2.9.2.jar:/contrib/capacity-scheduler/*.jar\n"
     ]
    },
    {
     "name": "stdout",
     "output_type": "stream",
     "text": [
      "STARTUP_MSG:   build = https://git-wip-us.apache.org/repos/asf/hadoop.git -r 826afbeae31ca687bc2f8471dc841b66ed2c6704; compiled by 'ajisaka' on 2018-11-13T12:42Z\n",
      "STARTUP_MSG:   java = 11.0.1\n",
      "************************************************************/\n",
      "18/12/16 00:44:22 INFO namenode.NameNode: registered UNIX signal handlers for [TERM, HUP, INT]\n",
      "18/12/16 00:44:22 INFO namenode.NameNode: createNameNode [-format]\n",
      "WARNING: An illegal reflective access operation has occurred\n",
      "WARNING: Illegal reflective access by org.apache.hadoop.security.authentication.util.KerberosUtil (file:/opt/hadoop-2.9.2/share/hadoop/common/lib/hadoop-auth-2.9.2.jar) to method sun.security.krb5.Config.getInstance()\n",
      "WARNING: Please consider reporting this to the maintainers of org.apache.hadoop.security.authentication.util.KerberosUtil\n",
      "WARNING: Use --illegal-access=warn to enable warnings of further illegal reflective access operations\n",
      "WARNING: All illegal access operations will be denied in a future release\n",
      "18/12/16 00:44:23 WARN common.Util: Path /hadoop-data/dfs/name should be specified as a URI in configuration files. Please update hdfs configuration.\n",
      "18/12/16 00:44:23 WARN common.Util: Path /hadoop-data/dfs/name should be specified as a URI in configuration files. Please update hdfs configuration.\n",
      "Formatting using clusterid: CID-a52b5567-7c03-477e-b4a6-1dc4e2beff6d\n",
      "18/12/16 00:44:23 INFO namenode.FSEditLog: Edit logging is async:true\n",
      "18/12/16 00:44:23 INFO namenode.FSNamesystem: KeyProvider: null\n",
      "18/12/16 00:44:23 INFO namenode.FSNamesystem: fsLock is fair: true\n",
      "18/12/16 00:44:23 INFO namenode.FSNamesystem: Detailed lock hold time metrics enabled: false\n",
      "18/12/16 00:44:23 INFO namenode.FSNamesystem: fsOwner             = hadoop (auth:SIMPLE)\n",
      "18/12/16 00:44:23 INFO namenode.FSNamesystem: supergroup          = supergroup\n",
      "18/12/16 00:44:23 INFO namenode.FSNamesystem: isPermissionEnabled = true\n",
      "18/12/16 00:44:23 INFO namenode.FSNamesystem: HA Enabled: false\n",
      "18/12/16 00:44:23 INFO common.Util: dfs.datanode.fileio.profiling.sampling.percentage set to 0. Disabling file IO profiling\n",
      "18/12/16 00:44:23 INFO blockmanagement.DatanodeManager: dfs.block.invalidate.limit: configured=1000, counted=60, effected=1000\n",
      "18/12/16 00:44:23 INFO blockmanagement.DatanodeManager: dfs.namenode.datanode.registration.ip-hostname-check=true\n",
      "18/12/16 00:44:23 INFO blockmanagement.BlockManager: dfs.namenode.startup.delay.block.deletion.sec is set to 000:00:00:00.000\n",
      "18/12/16 00:44:23 INFO blockmanagement.BlockManager: The block deletion will start around 2018 Dec 16 00:44:23\n",
      "18/12/16 00:44:23 INFO util.GSet: Computing capacity for map BlocksMap\n",
      "18/12/16 00:44:23 INFO util.GSet: VM type       = 64-bit\n",
      "18/12/16 00:44:23 INFO util.GSet: 2.0% max memory 966.7 MB = 19.3 MB\n",
      "18/12/16 00:44:23 INFO util.GSet: capacity      = 2^21 = 2097152 entries\n",
      "18/12/16 00:44:23 INFO blockmanagement.BlockManager: dfs.block.access.token.enable=false\n",
      "18/12/16 00:44:23 WARN conf.Configuration: No unit for dfs.heartbeat.interval(3) assuming SECONDS\n",
      "18/12/16 00:44:23 WARN conf.Configuration: No unit for dfs.namenode.safemode.extension(30000) assuming MILLISECONDS\n",
      "18/12/16 00:44:23 INFO blockmanagement.BlockManagerSafeMode: dfs.namenode.safemode.threshold-pct = 0.9990000128746033\n",
      "18/12/16 00:44:23 INFO blockmanagement.BlockManagerSafeMode: dfs.namenode.safemode.min.datanodes = 0\n",
      "18/12/16 00:44:23 INFO blockmanagement.BlockManagerSafeMode: dfs.namenode.safemode.extension = 30000\n",
      "18/12/16 00:44:23 INFO blockmanagement.BlockManager: defaultReplication         = 1\n",
      "18/12/16 00:44:23 INFO blockmanagement.BlockManager: maxReplication             = 512\n",
      "18/12/16 00:44:23 INFO blockmanagement.BlockManager: minReplication             = 1\n",
      "18/12/16 00:44:23 INFO blockmanagement.BlockManager: maxReplicationStreams      = 2\n",
      "18/12/16 00:44:23 INFO blockmanagement.BlockManager: replicationRecheckInterval = 3000\n",
      "18/12/16 00:44:23 INFO blockmanagement.BlockManager: encryptDataTransfer        = false\n",
      "18/12/16 00:44:23 INFO blockmanagement.BlockManager: maxNumBlocksToLog          = 1000\n",
      "18/12/16 00:44:23 INFO namenode.FSNamesystem: Append Enabled: true\n",
      "18/12/16 00:44:24 INFO namenode.FSDirectory: GLOBAL serial map: bits=24 maxEntries=16777215\n",
      "18/12/16 00:44:24 INFO util.GSet: Computing capacity for map INodeMap\n",
      "18/12/16 00:44:24 INFO util.GSet: VM type       = 64-bit\n",
      "18/12/16 00:44:24 INFO util.GSet: 1.0% max memory 966.7 MB = 9.7 MB\n",
      "18/12/16 00:44:24 INFO util.GSet: capacity      = 2^20 = 1048576 entries\n",
      "18/12/16 00:44:24 INFO namenode.FSDirectory: ACLs enabled? false\n",
      "18/12/16 00:44:24 INFO namenode.FSDirectory: XAttrs enabled? true\n",
      "18/12/16 00:44:24 INFO namenode.NameNode: Caching file names occurring more than 10 times\n",
      "18/12/16 00:44:24 INFO snapshot.SnapshotManager: Loaded config captureOpenFiles: falseskipCaptureAccessTimeOnlyChange: false\n",
      "18/12/16 00:44:24 INFO util.GSet: Computing capacity for map cachedBlocks\n",
      "18/12/16 00:44:24 INFO util.GSet: VM type       = 64-bit\n",
      "18/12/16 00:44:24 INFO util.GSet: 0.25% max memory 966.7 MB = 2.4 MB\n",
      "18/12/16 00:44:24 INFO util.GSet: capacity      = 2^18 = 262144 entries\n",
      "18/12/16 00:44:24 INFO metrics.TopMetrics: NNTop conf: dfs.namenode.top.window.num.buckets = 10\n",
      "18/12/16 00:44:24 INFO metrics.TopMetrics: NNTop conf: dfs.namenode.top.num.users = 10\n",
      "18/12/16 00:44:24 INFO metrics.TopMetrics: NNTop conf: dfs.namenode.top.windows.minutes = 1,5,25\n",
      "18/12/16 00:44:24 INFO namenode.FSNamesystem: Retry cache on namenode is enabled\n",
      "18/12/16 00:44:24 INFO namenode.FSNamesystem: Retry cache will use 0.03 of total heap and retry cache entry expiry time is 600000 millis\n",
      "18/12/16 00:44:24 INFO util.GSet: Computing capacity for map NameNodeRetryCache\n",
      "18/12/16 00:44:24 INFO util.GSet: VM type       = 64-bit\n",
      "18/12/16 00:44:24 INFO util.GSet: 0.029999999329447746% max memory 966.7 MB = 297.0 KB\n",
      "18/12/16 00:44:24 INFO util.GSet: capacity      = 2^15 = 32768 entries\n",
      "18/12/16 00:44:24 INFO namenode.FSImage: Allocated new BlockPoolId: BP-1798617543-10.12.12.12-1544921064407\n",
      "18/12/16 00:44:24 INFO common.Storage: Storage directory /hadoop-data/dfs/name has been successfully formatted.\n",
      "18/12/16 00:44:24 INFO namenode.FSImageFormatProtobuf: Saving image file /hadoop-data/dfs/name/current/fsimage.ckpt_0000000000000000000 using no compression\n",
      "18/12/16 00:44:24 INFO namenode.FSImageFormatProtobuf: Image file /hadoop-data/dfs/name/current/fsimage.ckpt_0000000000000000000 of size 325 bytes saved in 0 seconds .\n",
      "18/12/16 00:44:24 INFO namenode.NNStorageRetentionManager: Going to retain 1 images with txid >= 0\n",
      "18/12/16 00:44:24 INFO namenode.NameNode: SHUTDOWN_MSG: \n",
      "/************************************************************\n",
      "SHUTDOWN_MSG: Shutting down NameNode at jupyter-serhatcevikel-2dbdm-5f2018-5ftest2-2dxd78knt3/10.12.12.12\n",
      "************************************************************/\n"
     ]
    }
   ],
   "source": [
    "hdfs namenode -format"
   ]
  },
  {
   "cell_type": "code",
   "execution_count": 15,
   "metadata": {},
   "outputs": [
    {
     "name": "stdout",
     "output_type": "stream",
     "text": [
      "WARNING: An illegal reflective access operation has occurred\n",
      "WARNING: Illegal reflective access by org.apache.hadoop.security.authentication.util.KerberosUtil (file:/opt/hadoop-2.9.2/share/hadoop/common/lib/hadoop-auth-2.9.2.jar) to method sun.security.krb5.Config.getInstance()\n",
      "WARNING: Please consider reporting this to the maintainers of org.apache.hadoop.security.authentication.util.KerberosUtil\n",
      "WARNING: Use --illegal-access=warn to enable warnings of further illegal reflective access operations\n",
      "WARNING: All illegal access operations will be denied in a future release\n",
      "Starting namenodes on [localhost]\n",
      "localhost: Warning: Permanently added 'localhost' (ECDSA) to the list of known hosts.\n",
      "localhost: starting namenode, logging to /opt/hadoop-2.9.2/logs/hadoop-hadoop-namenode-jupyter-serhatcevikel-2dbdm-5f2018-5ftest2-2dxd78knt3.out\n",
      "localhost: starting datanode, logging to /opt/hadoop-2.9.2/logs/hadoop-hadoop-datanode-jupyter-serhatcevikel-2dbdm-5f2018-5ftest2-2dxd78knt3.out\n",
      "Starting secondary namenodes [0.0.0.0]\n",
      "0.0.0.0: Warning: Permanently added '0.0.0.0' (ECDSA) to the list of known hosts.\n",
      "0.0.0.0: starting secondarynamenode, logging to /opt/hadoop-2.9.2/logs/hadoop-hadoop-secondarynamenode-jupyter-serhatcevikel-2dbdm-5f2018-5ftest2-2dxd78knt3.out\n",
      "WARNING: An illegal reflective access operation has occurred\n",
      "WARNING: Illegal reflective access by org.apache.hadoop.security.authentication.util.KerberosUtil (file:/opt/hadoop-2.9.2/share/hadoop/common/lib/hadoop-auth-2.9.2.jar) to method sun.security.krb5.Config.getInstance()\n",
      "WARNING: Please consider reporting this to the maintainers of org.apache.hadoop.security.authentication.util.KerberosUtil\n",
      "WARNING: Use --illegal-access=warn to enable warnings of further illegal reflective access operations\n",
      "WARNING: All illegal access operations will be denied in a future release\n"
     ]
    }
   ],
   "source": [
    "start-dfs.sh"
   ]
  },
  {
   "cell_type": "code",
   "execution_count": 16,
   "metadata": {},
   "outputs": [
    {
     "name": "stdout",
     "output_type": "stream",
     "text": [
      "starting yarn daemons\n",
      "starting resourcemanager, logging to /opt/hadoop-2.9.2/logs/yarn-root-resourcemanager-jupyter-serhatcevikel-2dbdm-5f2018-5ftest2-2dxd78knt3.out\n",
      "localhost: starting nodemanager, logging to /opt/hadoop-2.9.2/logs/yarn-hadoop-nodemanager-jupyter-serhatcevikel-2dbdm-5f2018-5ftest2-2dxd78knt3.out\n"
     ]
    }
   ],
   "source": [
    "start-yarn.sh"
   ]
  },
  {
   "cell_type": "code",
   "execution_count": 17,
   "metadata": {},
   "outputs": [
    {
     "name": "stdout",
     "output_type": "stream",
     "text": [
      "498 SecondaryNameNode\n",
      "755 NodeManager\n",
      "660 ResourceManager\n",
      "310 DataNode\n",
      "790 Jps\n",
      "217 NameNode\n"
     ]
    }
   ],
   "source": [
    "jps"
   ]
  },
  {
   "cell_type": "code",
   "execution_count": 18,
   "metadata": {},
   "outputs": [
    {
     "name": "stdout",
     "output_type": "stream",
     "text": [
      "WARNING: An illegal reflective access operation has occurred\n",
      "WARNING: Illegal reflective access by org.apache.hadoop.security.authentication.util.KerberosUtil (file:/opt/hadoop-2.9.2/share/hadoop/common/lib/hadoop-auth-2.9.2.jar) to method sun.security.krb5.Config.getInstance()\n",
      "WARNING: Please consider reporting this to the maintainers of org.apache.hadoop.security.authentication.util.KerberosUtil\n",
      "WARNING: Use --illegal-access=warn to enable warnings of further illegal reflective access operations\n",
      "WARNING: All illegal access operations will be denied in a future release\n",
      "Configured Capacity: 1052500430848 (980.22 GB)\n",
      "Present Capacity: 184493256704 (171.82 GB)\n",
      "DFS Remaining: 184493232128 (171.82 GB)\n",
      "DFS Used: 24576 (24 KB)\n",
      "DFS Used%: 0.00%\n",
      "Under replicated blocks: 0\n",
      "Blocks with corrupt replicas: 0\n",
      "Missing blocks: 0\n",
      "Missing blocks (with replication factor 1): 0\n",
      "Pending deletion blocks: 0\n",
      "\n",
      "-------------------------------------------------\n",
      "Live datanodes (1):\n",
      "\n",
      "Name: 127.0.0.1:50010 (localhost)\n",
      "Hostname: jupyter-serhatcevikel-2dbdm-5f2018-5ftest2-2dxd78knt3\n",
      "Decommission Status : Normal\n",
      "Configured Capacity: 1052500430848 (980.22 GB)\n",
      "DFS Used: 24576 (24 KB)\n",
      "Non DFS Used: 867990396928 (808.38 GB)\n",
      "DFS Remaining: 184493232128 (171.82 GB)\n",
      "DFS Used%: 0.00%\n",
      "DFS Remaining%: 17.53%\n",
      "Configured Cache Capacity: 0 (0 B)\n",
      "Cache Used: 0 (0 B)\n",
      "Cache Remaining: 0 (0 B)\n",
      "Cache Used%: 100.00%\n",
      "Cache Remaining%: 0.00%\n",
      "Xceivers: 1\n",
      "Last contact: Sun Dec 16 00:45:56 UTC 2018\n",
      "Last Block Report: Sun Dec 16 00:45:02 UTC 2018\n",
      "\n",
      "\n"
     ]
    }
   ],
   "source": [
    "hdfs dfsadmin -report"
   ]
  },
  {
   "cell_type": "code",
   "execution_count": 20,
   "metadata": {},
   "outputs": [],
   "source": [
    "hdfs dfs -put ~/selected_info.tsv / 2> /dev/null"
   ]
  },
  {
   "cell_type": "code",
   "execution_count": 21,
   "metadata": {},
   "outputs": [
    {
     "name": "stdout",
     "output_type": "stream",
     "text": [
      "Found 1 items\n",
      "-rw-r--r--   1 hadoop supergroup      28878 2018-12-16 00:46 /selected_info.tsv\n"
     ]
    }
   ],
   "source": [
    "hdfs dfs -ls / 2> /dev/null"
   ]
  },
  {
   "cell_type": "code",
   "execution_count": 25,
   "metadata": {},
   "outputs": [
    {
     "name": "stdout",
     "output_type": "stream",
     "text": [
      "\u001b[?25l⠋ Updating\u001b[2K\u001b[1G⠙ Updating\u001b[2K\u001b[1G⠹ Updating\u001b[2K\u001b[1G⠸ Updating\u001b[2K\u001b[1G⠼ Updating\u001b[2K\u001b[1G⠴ Updating\u001b[2K\u001b[1G⠦ Updating\u001b[2K\u001b[1G⠧ Updating\u001b[2K\u001b[1G⠇ Updating\u001b[2K\u001b[1G⠏ Updating\u001b[2K\u001b[1G⠋ Updating\u001b[2K\u001b[1G⠙ Updating\u001b[2K\u001b[1G⠹ Updating\u001b[2K\u001b[1G⠸ Updating\u001b[2K\u001b[1G⠼ Updating\u001b[2K\u001b[1G⠴ Updating\u001b[2K\u001b[1G⠦ Updating\u001b[2K\u001b[1G⠧ Updating\u001b[2K\u001b[1G⠇ Updating\u001b[2K\u001b[1G⠏ Updating\u001b[2K\u001b[1G⠋ Updating\u001b[2K\u001b[1G⠙ Updating\u001b[2K\u001b[1G⠹ Updating\u001b[2K\u001b[1G⠸ Updating\u001b[2K\u001b[1G⠼ Updating\u001b[2K\u001b[1G⠴ Updating\u001b[2K\u001b[1G⠦ Updating\u001b[2K\u001b[1G⠧ Updating\u001b[2K\u001b[1G⠇ Updating\u001b[2K\u001b[1G⠏ Updating\u001b[2K\u001b[1G⠋ Updating\u001b[2K\u001b[1G⠙ Updating\u001b[2K\u001b[1G⠹ Updating\u001b[2K\u001b[1G⠸ Updating\u001b[2K\u001b[1G⠼ Updating\u001b[2K\u001b[1G⠴ Updating\u001b[2K\u001b[1G⠦ Updating\u001b[2K\u001b[1G⠧ Updating\u001b[2K\u001b[1G⠇ Updating\u001b[2K\u001b[1G⠏ Updating\u001b[2K\u001b[1G⠋ Updating\u001b[2K\u001b[1G\u001b[?25h✔ Updating\n",
      "\u001b[?25l⠋ Creating index\u001b[2K\u001b[1G⠙ Creating index\u001b[2K\u001b[1G⠹ Creating index\u001b[2K\u001b[1G⠸ Creating index\u001b[2K\u001b[1G⠼ Creating index\u001b[2K\u001b[1G⠴ Creating index\u001b[2K\u001b[1G⠦ Creating index\u001b[2K\u001b[1G\u001b[?25h✔ Creating index\n",
      "\u001b[?25h"
     ]
    }
   ],
   "source": [
    "tldr -u"
   ]
  },
  {
   "cell_type": "code",
   "execution_count": 27,
   "metadata": {},
   "outputs": [
    {
     "name": "stdout",
     "output_type": "stream",
     "text": [
      "Downloading package metadata...\n",
      "Downloading 1796 fragments (1339946985 bytes before compression)...\n",
      "100%|██████████████████████████████████████| 1.34G/1.34G [03:10<00:00, 7.03MB/s]\n"
     ]
    }
   ],
   "source": [
    "quilt install serhatcevikel/bdm_data"
   ]
  },
  {
   "cell_type": "code",
   "execution_count": 28,
   "metadata": {},
   "outputs": [
    {
     "name": "stdout",
     "output_type": "stream",
     "text": [
      "\r",
      "Exporting file 0 of 1798 [00:00]\r",
      "Exporting file 63 of 1798 [00:00]: comtrade_s1/2010/2010_398_792_s1.json.gz\r",
      "Exporting file 131 of 1798 [00:00]: comtrade_s1/2010/2010_702_792_s1.json.gz\r",
      "Exporting file 213 of 1798 [00:00]: comtrade_s1/2010/2010_792_308_s1.json.gz\r",
      "Exporting file 298 of 1798 [00:00]: comtrade_s1/2010/2010_792_600_s1.json.gz\r",
      "Exporting file 369 of 1798 [00:00]: comtrade_s1/2010/2010_792_882_s1.json.gz\r",
      "Exporting file 432 of 1798 [00:01]: comtrade_s1/2010e/2010_288_792_s1.json  \r",
      "Exporting file 478 of 1798 [00:03]: comtrade_s1/2010e/2010_498_792_s1.json\r",
      "Exporting file 511 of 1798 [00:04]: comtrade_s1/2010e/2010_646_792_s1.json\r",
      "Exporting file 535 of 1798 [00:05]: comtrade_s1/2010e/2010_757_792_s1.json\r",
      "Exporting file 553 of 1798 [00:05]: comtrade_s1/2010e/2010_792_136_s1.json\r",
      "Exporting file 566 of 1798 [00:06]: comtrade_s1/2010e/2010_792_180_s1.json\r",
      "Exporting file 577 of 1798 [00:06]: comtrade_s1/2010e/2010_792_214_s1.json\r",
      "Exporting file 586 of 1798 [00:06]: comtrade_s1/2010e/2010_792_239_s1.json\r",
      "Exporting file 595 of 1798 [00:06]: comtrade_s1/2010e/2010_792_268_s1.json\r",
      "Exporting file 602 of 1798 [00:06]: comtrade_s1/2010e/2010_792_296_s1.json\r",
      "Exporting file 608 of 1798 [00:07]: comtrade_s1/2010e/2010_792_320_s1.json\r",
      "Exporting file 614 of 1798 [00:07]: comtrade_s1/2010e/2010_792_340_s1.json\r",
      "Exporting file 620 of 1798 [00:07]: comtrade_s1/2010e/2010_792_368_s1.json\r",
      "Exporting file 625 of 1798 [00:07]: comtrade_s1/2010e/2010_792_384_s1.json\r",
      "Exporting file 629 of 1798 [00:08]: comtrade_s1/2010e/2010_792_400_s1.json\r",
      "Exporting file 632 of 1798 [00:08]: comtrade_s1/2010e/2010_792_40_s1.json \r",
      "Exporting file 635 of 1798 [00:08]: comtrade_s1/2010e/2010_792_417_s1.json\r",
      "Exporting file 639 of 1798 [00:08]: comtrade_s1/2010e/2010_792_428_s1.json\r",
      "Exporting file 642 of 1798 [00:08]: comtrade_s1/2010e/2010_792_440_s1.json\r",
      "Exporting file 648 of 1798 [00:08]: comtrade_s1/2010e/2010_792_458_s1.json\r",
      "Exporting file 653 of 1798 [00:08]: comtrade_s1/2010e/2010_792_480_s1.json\r",
      "Exporting file 657 of 1798 [00:09]: comtrade_s1/2010e/2010_792_496_s1.json\r",
      "Exporting file 661 of 1798 [00:09]: comtrade_s1/2010e/2010_792_504_s1.json\r",
      "Exporting file 668 of 1798 [00:09]: comtrade_s1/2010e/2010_792_524_s1.json\r",
      "Exporting file 673 of 1798 [00:09]: comtrade_s1/2010e/2010_792_533_s1.json\r",
      "Exporting file 680 of 1798 [00:09]: comtrade_s1/2010e/2010_792_56_s1.json \r",
      "Exporting file 687 of 1798 [00:09]: comtrade_s1/2010e/2010_792_586_s1.json\r",
      "Exporting file 693 of 1798 [00:09]: comtrade_s1/2010e/2010_792_60_s1.json \r",
      "Exporting file 698 of 1798 [00:10]: comtrade_s1/2010e/2010_792_634_s1.json\r",
      "Exporting file 703 of 1798 [00:10]: comtrade_s1/2010e/2010_792_654_s1.json\r",
      "Exporting file 712 of 1798 [00:10]: comtrade_s1/2010e/2010_792_686_s1.json\r",
      "Exporting file 717 of 1798 [00:10]: comtrade_s1/2010e/2010_792_699_s1.json\r",
      "Exporting file 722 of 1798 [00:10]: comtrade_s1/2010e/2010_792_706_s1.json\r",
      "Exporting file 726 of 1798 [00:10]: comtrade_s1/2010e/2010_792_724_s1.json\r",
      "Exporting file 731 of 1798 [00:11]: comtrade_s1/2010e/2010_792_752_s1.json\r",
      "Exporting file 735 of 1798 [00:11]: comtrade_s1/2010e/2010_792_764_s1.json\r",
      "Exporting file 741 of 1798 [00:11]: comtrade_s1/2010e/2010_792_784_s1.json\r",
      "Exporting file 745 of 1798 [00:11]: comtrade_s1/2010e/2010_792_798_s1.json\r",
      "Exporting file 749 of 1798 [00:11]: comtrade_s1/2010e/2010_792_818_s1.json\r",
      "Exporting file 752 of 1798 [00:11]: comtrade_s1/2010e/2010_792_838_s1.json\r",
      "Exporting file 755 of 1798 [00:12]: comtrade_s1/2010e/2010_792_854_s1.json\r",
      "Exporting file 762 of 1798 [00:12]: comtrade_s1/2010e/2010_792_887_s1.json\r",
      "Exporting file 768 of 1798 [00:12]: comtrade_s1/2010e/2010_792_96_s1.json \r",
      "Exporting file 773 of 1798 [00:12]: comtrade_s1/2010e/2010_818_792_s1.json\r",
      "Exporting file 777 of 1798 [00:12]: comtrade_s1/2010e/2010_84_792_s1.json \r",
      "Exporting file 782 of 1798 [00:12]: comtrade_s1/2010e/2010_894_792_s1.json\r",
      "Exporting file 786 of 1798 [00:13]: comtrade_s1/partnerAreas.json         \r",
      "Exporting file 797 of 1798 [00:13]: he_sisli/16723985            \r",
      "Exporting file 804 of 1798 [00:13]: he_sisli/18579922\r",
      "Exporting file 810 of 1798 [00:13]: he_sisli/19197278\r",
      "Exporting file 818 of 1798 [00:13]: he_sisli/20144528\r",
      "Exporting file 827 of 1798 [00:13]: he_sisli/21461154\r",
      "Exporting file 834 of 1798 [00:13]: he_sisli/22356446\r",
      "Exporting file 842 of 1798 [00:13]: he_sisli/23220422\r",
      "Exporting file 851 of 1798 [00:13]: he_sisli/23832971\r",
      "Exporting file 859 of 1798 [00:14]: he_sisli/24328888\r",
      "Exporting file 867 of 1798 [00:14]: he_sisli/25041519\r",
      "Exporting file 875 of 1798 [00:14]: he_sisli/25285695\r",
      "Exporting file 884 of 1798 [00:14]: he_sisli/25712187\r",
      "Exporting file 893 of 1798 [00:14]: he_sisli/25985632\r",
      "Exporting file 903 of 1798 [00:14]: he_sisli/26225441\r",
      "Exporting file 912 of 1798 [00:14]: he_sisli/26648659\r",
      "Exporting file 921 of 1798 [00:14]: he_sisli/26909813\r",
      "Exporting file 930 of 1798 [00:14]: he_sisli/27102337\r",
      "Exporting file 939 of 1798 [00:15]: he_sisli/27522072\r",
      "Exporting file 947 of 1798 [00:15]: he_sisli/27623694\r",
      "Exporting file 955 of 1798 [00:15]: he_sisli/27692238\r",
      "Exporting file 963 of 1798 [00:15]: he_sisli/27839828\r",
      "Exporting file 970 of 1798 [00:15]: he_sisli/28081297\r",
      "Exporting file 978 of 1798 [00:15]: he_sisli/28184072\r",
      "Exporting file 986 of 1798 [00:15]: he_sisli/28434034\r",
      "Exporting file 995 of 1798 [00:15]: he_sisli/28684636\r",
      "Exporting file 1004 of 1798 [00:15]: he_sisli/29008867\r",
      "Exporting file 1013 of 1798 [00:16]: he_sisli/29174052\r",
      "Exporting file 1021 of 1798 [00:16]: he_sisli/29283918\r",
      "Exporting file 1030 of 1798 [00:16]: he_sisli/29335824\r",
      "Exporting file 1039 of 1798 [00:16]: he_sisli/29432884\r",
      "Exporting file 1048 of 1798 [00:16]: he_sisli/29522465\r",
      "Exporting file 1057 of 1798 [00:16]: he_sisli/29568401\r",
      "Exporting file 1066 of 1798 [00:16]: he_sisli/29751377\r",
      "Exporting file 1075 of 1798 [00:16]: he_sisli/29871513\r",
      "Exporting file 1084 of 1798 [00:16]: he_sisli/30037576\r",
      "Exporting file 1093 of 1798 [00:17]: he_sisli/30101577\r",
      "Exporting file 1102 of 1798 [00:17]: he_sisli/30162427\r",
      "Exporting file 1111 of 1798 [00:17]: he_sisli/30274381\r",
      "Exporting file 1120 of 1798 [00:17]: he_sisli/30381821\r",
      "Exporting file 1129 of 1798 [00:17]: he_sisli/30436059\r",
      "Exporting file 1138 of 1798 [00:17]: he_sisli/30540019\r",
      "Exporting file 1147 of 1798 [00:17]: he_sisli/30709425\r",
      "Exporting file 1156 of 1798 [00:17]: he_sisli/30788692\r",
      "Exporting file 1165 of 1798 [00:17]: he_sisli/30886278\r",
      "Exporting file 1174 of 1798 [00:18]: he_sisli/31037996\r",
      "Exporting file 1183 of 1798 [00:18]: he_sisli/31132029\r",
      "Exporting file 1191 of 1798 [00:18]: he_sisli/31181505\r",
      "Exporting file 1199 of 1798 [00:18]: he_sisli/31224817\r",
      "Exporting file 1208 of 1798 [00:18]: he_sisli/31259899\r",
      "Exporting file 1216 of 1798 [00:18]: he_sisli/31303284\r",
      "Exporting file 1225 of 1798 [00:18]: he_sisli/31327347\r",
      "Exporting file 1233 of 1798 [00:18]: he_sisli/31379207\r",
      "Exporting file 1242 of 1798 [00:18]: he_sisli/31433515\r",
      "Exporting file 1251 of 1798 [00:19]: he_sisli/31471604\r",
      "Exporting file 1259 of 1798 [00:19]: he_sisli/31510890\r",
      "Exporting file 1267 of 1798 [00:19]: he_sisli/31543836\r",
      "Exporting file 1275 of 1798 [00:19]: he_sisli/31571247\r",
      "Exporting file 1283 of 1798 [00:19]: he_sisli/31590605\r",
      "Exporting file 1292 of 1798 [00:19]: he_sisli/31623474\r",
      "Exporting file 1300 of 1798 [00:19]: he_sisli/31636900\r",
      "Exporting file 1308 of 1798 [00:19]: he_sisli/31667360\r",
      "Exporting file 1316 of 1798 [00:19]: he_sisli/31723682\r",
      "Exporting file 1324 of 1798 [00:20]: he_sisli/31739011\r",
      "Exporting file 1332 of 1798 [00:20]: he_sisli/31759855\r",
      "Exporting file 1339 of 1798 [00:20]: he_sisli/31780224\r",
      "Exporting file 1347 of 1798 [00:20]: he_sisli/31804900\r",
      "Exporting file 1355 of 1798 [00:20]: he_sisli/31827700\r",
      "Exporting file 1363 of 1798 [00:20]: he_sisli/31850212\r",
      "Exporting file 1371 of 1798 [00:20]: he_sisli/31874055\r",
      "Exporting file 1379 of 1798 [00:20]: he_sisli/31917646\r",
      "Exporting file 1387 of 1798 [00:21]: he_sisli/31926590\r",
      "Exporting file 1395 of 1798 [00:21]: he_sisli/31952051\r",
      "Exporting file 1403 of 1798 [00:21]: he_sisli/31972391\r",
      "Exporting file 1412 of 1798 [00:21]: he_sisli/31987101\r",
      "Exporting file 1420 of 1798 [00:21]: he_sisli/31993788\r",
      "Exporting file 1428 of 1798 [00:21]: he_sisli/32006271\r",
      "Exporting file 1436 of 1798 [00:21]: he_sisli/32019615\r",
      "Exporting file 1444 of 1798 [00:21]: he_sisli/32038135\r",
      "Exporting file 1453 of 1798 [00:21]: he_sisli/32050735\r",
      "Exporting file 1461 of 1798 [00:21]: he_sisli/32056254\r",
      "Exporting file 1470 of 1798 [00:22]: he_sisli/32070991\r",
      "Exporting file 1479 of 1798 [00:22]: he_sisli/32084628\r",
      "Exporting file 1487 of 1798 [00:22]: he_sisli/32087971\r",
      "Exporting file 1495 of 1798 [00:22]: he_sisli/32093450\r",
      "Exporting file 1504 of 1798 [00:22]: he_sisli/32105317\r",
      "Exporting file 1512 of 1798 [00:22]: he_sisli/32108893\r",
      "Exporting file 1520 of 1798 [00:22]: he_sisli/32112659\r",
      "Exporting file 1528 of 1798 [00:22]: he_sisli/32122073\r",
      "Exporting file 1536 of 1798 [00:22]: he_sisli/32126977\r",
      "Exporting file 1544 of 1798 [00:23]: he_sisli/32132101\r",
      "Exporting file 1552 of 1798 [00:23]: he_sisli/32141601\r",
      "Exporting file 1560 of 1798 [00:23]: he_sisli/32154643\r",
      "Exporting file 1568 of 1798 [00:23]: he_sisli/32166508\r",
      "Exporting file 1575 of 1798 [00:23]: he_sisli/32177820\r",
      "Exporting file 1583 of 1798 [00:23]: he_sisli/32190113\r",
      "Exporting file 1591 of 1798 [00:23]: he_sisli/32198759\r",
      "Exporting file 1599 of 1798 [00:23]: he_sisli/32200275\r",
      "Exporting file 1608 of 1798 [00:23]: he_sisli/32208112\r",
      "Exporting file 1616 of 1798 [00:24]: he_sisli/32223303\r",
      "Exporting file 1624 of 1798 [00:24]: he_sisli/32236142\r",
      "Exporting file 1632 of 1798 [00:24]: he_sisli/32244785\r",
      "Exporting file 1640 of 1798 [00:24]: he_sisli/32257437\r",
      "Exporting file 1648 of 1798 [00:24]: he_sisli/32273540\r",
      "Exporting file 1655 of 1798 [00:24]: he_sisli/32279414\r",
      "Exporting file 1662 of 1798 [00:24]: he_sisli/32281784\r",
      "Exporting file 1668 of 1798 [00:25]: he_sisli/32285068\r",
      "Exporting file 1675 of 1798 [00:25]: he_sisli/32293837\r",
      "Exporting file 1683 of 1798 [00:25]: he_sisli/32297056\r",
      "Exporting file 1690 of 1798 [00:25]: he_sisli/32298421\r",
      "Exporting file 1698 of 1798 [00:25]: he_sisli/32300576\r",
      "Exporting file 1706 of 1798 [00:25]: he_sisli/32305441\r",
      "Exporting file 1713 of 1798 [00:25]: he_sisli/32312783\r",
      "Exporting file 1720 of 1798 [00:25]: he_sisli/32320910\r",
      "Exporting file 1728 of 1798 [00:25]: he_sisli/32323481\r",
      "Exporting file 1736 of 1798 [00:26]: he_sisli/32328822\r",
      "Exporting file 1744 of 1798 [00:26]: he_sisli/32338744\r",
      "Exporting file 1752 of 1798 [00:26]: he_sisli/32342966\r",
      "Exporting file 1761 of 1798 [00:26]: he_sisli/32348215\r",
      "Exporting file 1769 of 1798 [00:26]: he_sisli/32359289\r",
      "Exporting file 1778 of 1798 [00:26]: he_sisli/4430826 \r",
      "Exporting file 1778 of 1798 [00:40]: imdb/imdb.sql.gz\r",
      "Exporting file 1783 of 1798 [01:03]: imdb/imdb.sql.gz\r",
      "Exporting file 1784 of 1798 [01:16]: imdb/tsv/name.basics.tsv.gz\r",
      "Exporting file 1785 of 1798 [01:23]: imdb/tsv/title.basics.tsv.gz\r",
      "Exporting file 1786 of 1798 [01:25]: imdb/tsv/title.crew.tsv.gz  \r",
      "Exporting file 1787 of 1798 [01:27]: imdb/tsv/title.episode.tsv.gz\r",
      "Exporting file 1788 of 1798 [01:34]: imdb/tsv/title.principals.tsv.gz\r",
      "Exporting file 1789 of 1798 [01:34]: imdb/tsv/title.ratings.tsv.gz   \r",
      "Exporting file 1790 of 1798 [01:35]: ncdc/1932.gz                 \r",
      "Exporting file 1791 of 1798 [01:36]: ncdc/1933.gz\r",
      "Exporting file 1792 of 1798 [01:37]: ncdc/1934.gz\r",
      "Exporting file 1793 of 1798 [01:38]: ncdc/1935.gz\r",
      "Exporting file 1794 of 1798 [01:39]: ncdc/1936.gz\r",
      "Exporting file 1795 of 1798 [01:41]: ngrams/googlebooks-eng-all-1gram-20120701-q.gz\r",
      "Exporting file 1796 of 1798 [01:42]: ngrams/googlebooks-eng-all-1gram-20120701-x.gz\r",
      "Exporting file 1797 of 1798 [01:44]: ngrams/googlebooks-eng-all-1gram-20120701-y.gz\r",
      "Exporting file 1798 of 1798 [01:47]: ngrams/googlebooks-eng-all-1gram-20120701-z.gz\n"
     ]
    }
   ],
   "source": [
    "quilt export serhatcevikel/bdm_data ~/data"
   ]
  },
  {
   "cell_type": "code",
   "execution_count": null,
   "metadata": {},
   "outputs": [],
   "source": [
    "rm ~/data/imdb/imdb.sql*"
   ]
  },
  {
   "cell_type": "code",
   "execution_count": null,
   "metadata": {},
   "outputs": [],
   "source": [
    "find ~/data -name \"*.gz\" -exec gunzip {} \\;"
   ]
  },
  {
   "cell_type": "code",
   "execution_count": null,
   "metadata": {},
   "outputs": [],
   "source": [
    "stop-dfs.sh"
   ]
  },
  {
   "cell_type": "code",
   "execution_count": null,
   "metadata": {},
   "outputs": [],
   "source": [
    "stop-yarn.sh"
   ]
  }
 ],
 "metadata": {
  "kernelspec": {
   "display_name": "Bash",
   "language": "bash",
   "name": "bash"
  },
  "language_info": {
   "codemirror_mode": "shell",
   "file_extension": ".sh",
   "mimetype": "text/x-sh",
   "name": "bash"
  },
  "toc": {
   "base_numbering": 1,
   "nav_menu": {},
   "number_sections": true,
   "sideBar": true,
   "skip_h1_title": false,
   "title_cell": "Table of Contents",
   "title_sidebar": "Contents",
   "toc_cell": false,
   "toc_position": {},
   "toc_section_display": true,
   "toc_window_display": false
  }
 },
 "nbformat": 4,
 "nbformat_minor": 2
}
