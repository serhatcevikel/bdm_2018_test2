{
 "cells": [
  {
   "cell_type": "code",
   "execution_count": 1,
   "metadata": {},
   "outputs": [],
   "source": [
    "sudo chown -R hadoop:hadoop /opt/hadoop-2.9.2/"
   ]
  },
  {
   "cell_type": "code",
   "execution_count": 2,
   "metadata": {},
   "outputs": [],
   "source": [
    "sudo chown -R hadoop:hadoop /hadoop-data"
   ]
  },
  {
   "cell_type": "code",
   "execution_count": 3,
   "metadata": {},
   "outputs": [],
   "source": [
    "sudo chmod 755 /hadoop-data"
   ]
  },
  {
   "cell_type": "code",
   "execution_count": 4,
   "metadata": {},
   "outputs": [],
   "source": [
    "ssh-keygen -b 2048 -t rsa -f ~/.ssh/id_rsa -q -N \"\""
   ]
  },
  {
   "cell_type": "code",
   "execution_count": 5,
   "metadata": {},
   "outputs": [],
   "source": [
    "cp ~/.ssh/id_rsa.pub ~/.ssh/authorized_keys"
   ]
  },
  {
   "cell_type": "code",
   "execution_count": 6,
   "metadata": {},
   "outputs": [],
   "source": [
    "sudo sed -i '/^#PubkeyAuthentication/ s/^#//' /etc/ssh/sshd_config\n",
    "sudo sed -i '/^#PermitRootLogin/ s/^#//' /etc/ssh/sshd_config"
   ]
  },
  {
   "cell_type": "code",
   "execution_count": 7,
   "metadata": {},
   "outputs": [],
   "source": [
    "sudo sed -i '/StrictHostKeyChecking/ s/^#//' /etc/ssh/ssh_config\n",
    "sudo sed -i '/StrictHostKeyChecking/ s/ask/no/' /etc/ssh/ssh_config"
   ]
  },
  {
   "cell_type": "code",
   "execution_count": 8,
   "metadata": {},
   "outputs": [
    {
     "name": "stdout",
     "output_type": "stream",
     "text": [
      "Stopping OpenBSD Secure Shell server: sshd.\n",
      "Starting OpenBSD Secure Shell server: sshd.\n"
     ]
    }
   ],
   "source": [
    "sudo service ssh stop\n",
    "sudo service ssh start"
   ]
  },
  {
   "cell_type": "code",
   "execution_count": 17,
   "metadata": {},
   "outputs": [],
   "source": [
    "cp hadoop_config/*.xml /etc/hadoop"
   ]
  },
  {
   "cell_type": "code",
   "execution_count": 16,
   "metadata": {},
   "outputs": [
    {
     "name": "stdout",
     "output_type": "stream",
     "text": [
      "total 8\n",
      "drwxr-xr-x 1 hadoop hadoop 4096 Dec 15 23:55 hadoop\n"
     ]
    }
   ],
   "source": [
    "ls -l /opt/hadoop-2.9.2/etc"
   ]
  },
  {
   "cell_type": "code",
   "execution_count": 22,
   "metadata": {},
   "outputs": [],
   "source": [
    "HADOOP_HOME=$HADOOP_PREFIX\n",
    "PATH=$HADOOP_PREFIX/bin:$HADOOP_PREFIX/sbin:$PATH"
   ]
  },
  {
   "cell_type": "code",
   "execution_count": 13,
   "metadata": {},
   "outputs": [
    {
     "name": "stdout",
     "output_type": "stream",
     "text": [
      "18/12/16 00:20:18 INFO namenode.NameNode: STARTUP_MSG: \n",
      "/************************************************************\n",
      "STARTUP_MSG: Starting NameNode\n",
      "STARTUP_MSG:   host = jupyter-serhatcevikel-2dbdm-5f2018-5ftest2-2d9zlg3raf/10.12.12.117\n",
      "STARTUP_MSG:   args = [-format]\n",
      "STARTUP_MSG:   version = 2.9.2\n",
      "STARTUP_MSG:   classpath = /etc/hadoop:/opt/hadoop-2.9.2/share/hadoop/common/lib/commons-io-2.4.jar:/opt/hadoop-2.9.2/share/hadoop/common/lib/jsch-0.1.54.jar:/opt/hadoop-2.9.2/share/hadoop/common/lib/paranamer-2.3.jar:/opt/hadoop-2.9.2/share/hadoop/common/lib/servlet-api-2.5.jar:/opt/hadoop-2.9.2/share/hadoop/common/lib/jaxb-impl-2.2.3-1.jar:/opt/hadoop-2.9.2/share/hadoop/common/lib/json-smart-1.3.1.jar:/opt/hadoop-2.9.2/share/hadoop/common/lib/apacheds-i18n-2.0.0-M15.jar:/opt/hadoop-2.9.2/share/hadoop/common/lib/jetty-util-6.1.26.jar:/opt/hadoop-2.9.2/share/hadoop/common/lib/commons-cli-1.2.jar:/opt/hadoop-2.9.2/share/hadoop/common/lib/log4j-1.2.17.jar:/opt/hadoop-2.9.2/share/hadoop/common/lib/jcip-annotations-1.0-1.jar:/opt/hadoop-2.9.2/share/hadoop/common/lib/asm-3.2.jar:/opt/hadoop-2.9.2/share/hadoop/common/lib/jetty-6.1.26.jar:/opt/hadoop-2.9.2/share/hadoop/common/lib/junit-4.11.jar:/opt/hadoop-2.9.2/share/hadoop/common/lib/api-asn1-api-1.0.0-M20.jar:/opt/hadoop-2.9.2/share/hadoop/common/lib/hadoop-annotations-2.9.2.jar:/opt/hadoop-2.9.2/share/hadoop/common/lib/commons-collections-3.2.2.jar:/opt/hadoop-2.9.2/share/hadoop/common/lib/jsp-api-2.1.jar:/opt/hadoop-2.9.2/share/hadoop/common/lib/httpclient-4.5.2.jar:/opt/hadoop-2.9.2/share/hadoop/common/lib/zookeeper-3.4.6.jar:/opt/hadoop-2.9.2/share/hadoop/common/lib/nimbus-jose-jwt-4.41.1.jar:/opt/hadoop-2.9.2/share/hadoop/common/lib/gson-2.2.4.jar:/opt/hadoop-2.9.2/share/hadoop/common/lib/commons-math3-3.1.1.jar:/opt/hadoop-2.9.2/share/hadoop/common/lib/jsr305-3.0.0.jar:/opt/hadoop-2.9.2/share/hadoop/common/lib/htrace-core4-4.1.0-incubating.jar:/opt/hadoop-2.9.2/share/hadoop/common/lib/jackson-mapper-asl-1.9.13.jar:/opt/hadoop-2.9.2/share/hadoop/common/lib/slf4j-log4j12-1.7.25.jar:/opt/hadoop-2.9.2/share/hadoop/common/lib/jetty-sslengine-6.1.26.jar:/opt/hadoop-2.9.2/share/hadoop/common/lib/commons-lang3-3.4.jar:/opt/hadoop-2.9.2/share/hadoop/common/lib/apacheds-kerberos-codec-2.0.0-M15.jar:/opt/hadoop-2.9.2/share/hadoop/common/lib/activation-1.1.jar:/opt/hadoop-2.9.2/share/hadoop/common/lib/commons-net-3.1.jar:/opt/hadoop-2.9.2/share/hadoop/common/lib/jersey-json-1.9.jar:/opt/hadoop-2.9.2/share/hadoop/common/lib/avro-1.7.7.jar:/opt/hadoop-2.9.2/share/hadoop/common/lib/woodstox-core-5.0.3.jar:/opt/hadoop-2.9.2/share/hadoop/common/lib/jackson-jaxrs-1.9.13.jar:/opt/hadoop-2.9.2/share/hadoop/common/lib/java-xmlbuilder-0.4.jar:/opt/hadoop-2.9.2/share/hadoop/common/lib/guava-11.0.2.jar:/opt/hadoop-2.9.2/share/hadoop/common/lib/jaxb-api-2.2.2.jar:/opt/hadoop-2.9.2/share/hadoop/common/lib/jackson-xc-1.9.13.jar:/opt/hadoop-2.9.2/share/hadoop/common/lib/commons-configuration-1.6.jar:/opt/hadoop-2.9.2/share/hadoop/common/lib/mockito-all-1.8.5.jar:/opt/hadoop-2.9.2/share/hadoop/common/lib/protobuf-java-2.5.0.jar:/opt/hadoop-2.9.2/share/hadoop/common/lib/commons-compress-1.4.1.jar:/opt/hadoop-2.9.2/share/hadoop/common/lib/stax2-api-3.1.4.jar:/opt/hadoop-2.9.2/share/hadoop/common/lib/curator-recipes-2.7.1.jar:/opt/hadoop-2.9.2/share/hadoop/common/lib/netty-3.6.2.Final.jar:/opt/hadoop-2.9.2/share/hadoop/common/lib/jersey-server-1.9.jar:/opt/hadoop-2.9.2/share/hadoop/common/lib/snappy-java-1.0.5.jar:/opt/hadoop-2.9.2/share/hadoop/common/lib/curator-client-2.7.1.jar:/opt/hadoop-2.9.2/share/hadoop/common/lib/jets3t-0.9.0.jar:/opt/hadoop-2.9.2/share/hadoop/common/lib/stax-api-1.0-2.jar:/opt/hadoop-2.9.2/share/hadoop/common/lib/httpcore-4.4.4.jar:/opt/hadoop-2.9.2/share/hadoop/common/lib/commons-beanutils-1.7.0.jar:/opt/hadoop-2.9.2/share/hadoop/common/lib/commons-logging-1.1.3.jar:/opt/hadoop-2.9.2/share/hadoop/common/lib/xmlenc-0.52.jar:/opt/hadoop-2.9.2/share/hadoop/common/lib/curator-framework-2.7.1.jar:/opt/hadoop-2.9.2/share/hadoop/common/lib/api-util-1.0.0-M20.jar:/opt/hadoop-2.9.2/share/hadoop/common/lib/xz-1.0.jar:/opt/hadoop-2.9.2/share/hadoop/common/lib/slf4j-api-1.7.25.jar:/opt/hadoop-2.9.2/share/hadoop/common/lib/jackson-core-asl-1.9.13.jar:/opt/hadoop-2.9.2/share/hadoop/common/lib/commons-beanutils-core-1.8.0.jar:/opt/hadoop-2.9.2/share/hadoop/common/lib/commons-lang-2.6.jar:/opt/hadoop-2.9.2/share/hadoop/common/lib/hadoop-auth-2.9.2.jar:/opt/hadoop-2.9.2/share/hadoop/common/lib/commons-digester-1.8.jar:/opt/hadoop-2.9.2/share/hadoop/common/lib/jettison-1.1.jar:/opt/hadoop-2.9.2/share/hadoop/common/lib/jersey-core-1.9.jar:/opt/hadoop-2.9.2/share/hadoop/common/lib/hamcrest-core-1.3.jar:/opt/hadoop-2.9.2/share/hadoop/common/lib/commons-codec-1.4.jar:/opt/hadoop-2.9.2/share/hadoop/common/hadoop-common-2.9.2.jar:/opt/hadoop-2.9.2/share/hadoop/common/hadoop-common-2.9.2-tests.jar:/opt/hadoop-2.9.2/share/hadoop/common/hadoop-nfs-2.9.2.jar:/opt/hadoop-2.9.2/share/hadoop/hdfs:/opt/hadoop-2.9.2/share/hadoop/hdfs/lib/commons-io-2.4.jar:/opt/hadoop-2.9.2/share/hadoop/hdfs/lib/servlet-api-2.5.jar:/opt/hadoop-2.9.2/share/hadoop/hdfs/lib/okhttp-2.7.5.jar:/opt/hadoop-2.9.2/share/hadoop/hdfs/lib/jetty-util-6.1.26.jar:/opt/hadoop-2.9.2/share/hadoop/hdfs/lib/commons-cli-1.2.jar:/opt/hadoop-2.9.2/share/hadoop/hdfs/lib/log4j-1.2.17.jar:/opt/hadoop-2.9.2/share/hadoop/hdfs/lib/jackson-annotations-2.7.8.jar:/opt/hadoop-2.9.2/share/hadoop/hdfs/lib/hadoop-hdfs-client-2.9.2.jar:/opt/hadoop-2.9.2/share/hadoop/hdfs/lib/asm-3.2.jar:/opt/hadoop-2.9.2/share/hadoop/hdfs/lib/jetty-6.1.26.jar:/opt/hadoop-2.9.2/share/hadoop/hdfs/lib/netty-all-4.0.23.Final.jar:/opt/hadoop-2.9.2/share/hadoop/hdfs/lib/jsr305-3.0.0.jar:/opt/hadoop-2.9.2/share/hadoop/hdfs/lib/htrace-core4-4.1.0-incubating.jar:/opt/hadoop-2.9.2/share/hadoop/hdfs/lib/jackson-mapper-asl-1.9.13.jar:/opt/hadoop-2.9.2/share/hadoop/hdfs/lib/commons-daemon-1.0.13.jar:/opt/hadoop-2.9.2/share/hadoop/hdfs/lib/guava-11.0.2.jar:/opt/hadoop-2.9.2/share/hadoop/hdfs/lib/okio-1.6.0.jar:/opt/hadoop-2.9.2/share/hadoop/hdfs/lib/protobuf-java-2.5.0.jar:/opt/hadoop-2.9.2/share/hadoop/hdfs/lib/netty-3.6.2.Final.jar:/opt/hadoop-2.9.2/share/hadoop/hdfs/lib/jersey-server-1.9.jar:/opt/hadoop-2.9.2/share/hadoop/hdfs/lib/xml-apis-1.3.04.jar:/opt/hadoop-2.9.2/share/hadoop/hdfs/lib/jackson-core-2.7.8.jar:/opt/hadoop-2.9.2/share/hadoop/hdfs/lib/xercesImpl-2.9.1.jar:/opt/hadoop-2.9.2/share/hadoop/hdfs/lib/commons-logging-1.1.3.jar:/opt/hadoop-2.9.2/share/hadoop/hdfs/lib/xmlenc-0.52.jar:/opt/hadoop-2.9.2/share/hadoop/hdfs/lib/jackson-core-asl-1.9.13.jar:/opt/hadoop-2.9.2/share/hadoop/hdfs/lib/leveldbjni-all-1.8.jar:/opt/hadoop-2.9.2/share/hadoop/hdfs/lib/commons-lang-2.6.jar:/opt/hadoop-2.9.2/share/hadoop/hdfs/lib/jackson-databind-2.7.8.jar:/opt/hadoop-2.9.2/share/hadoop/hdfs/lib/jersey-core-1.9.jar:/opt/hadoop-2.9.2/share/hadoop/hdfs/lib/commons-codec-1.4.jar:/opt/hadoop-2.9.2/share/hadoop/hdfs/hadoop-hdfs-nfs-2.9.2.jar:/opt/hadoop-2.9.2/share/hadoop/hdfs/hadoop-hdfs-client-2.9.2.jar:/opt/hadoop-2.9.2/share/hadoop/hdfs/hadoop-hdfs-2.9.2.jar:/opt/hadoop-2.9.2/share/hadoop/hdfs/hadoop-hdfs-rbf-2.9.2-tests.jar:/opt/hadoop-2.9.2/share/hadoop/hdfs/hadoop-hdfs-rbf-2.9.2.jar:/opt/hadoop-2.9.2/share/hadoop/hdfs/hadoop-hdfs-2.9.2-tests.jar:/opt/hadoop-2.9.2/share/hadoop/hdfs/hadoop-hdfs-client-2.9.2-tests.jar:/opt/hadoop-2.9.2/share/hadoop/hdfs/hadoop-hdfs-native-client-2.9.2.jar:/opt/hadoop-2.9.2/share/hadoop/hdfs/hadoop-hdfs-native-client-2.9.2-tests.jar:/opt/hadoop-2.9.2/share/hadoop/yarn:/opt/hadoop-2.9.2/share/hadoop/yarn/lib/json-io-2.5.1.jar:/opt/hadoop-2.9.2/share/hadoop/yarn/lib/commons-io-2.4.jar:/opt/hadoop-2.9.2/share/hadoop/yarn/lib/jersey-guice-1.9.jar:/opt/hadoop-2.9.2/share/hadoop/yarn/lib/geronimo-jcache_1.0_spec-1.0-alpha-1.jar:/opt/hadoop-2.9.2/share/hadoop/yarn/lib/java-util-1.9.0.jar:/opt/hadoop-2.9.2/share/hadoop/yarn/lib/jsch-0.1.54.jar:/opt/hadoop-2.9.2/share/hadoop/yarn/lib/paranamer-2.3.jar:/opt/hadoop-2.9.2/share/hadoop/yarn/lib/servlet-api-2.5.jar:/opt/hadoop-2.9.2/share/hadoop/yarn/lib/jaxb-impl-2.2.3-1.jar:/opt/hadoop-2.9.2/share/hadoop/yarn/lib/json-smart-1.3.1.jar:/opt/hadoop-2.9.2/share/hadoop/yarn/lib/apacheds-i18n-2.0.0-M15.jar:/opt/hadoop-2.9.2/share/hadoop/yarn/lib/jetty-util-6.1.26.jar:/opt/hadoop-2.9.2/share/hadoop/yarn/lib/commons-cli-1.2.jar:/opt/hadoop-2.9.2/share/hadoop/yarn/lib/ehcache-3.3.1.jar:/opt/hadoop-2.9.2/share/hadoop/yarn/lib/log4j-1.2.17.jar:/opt/hadoop-2.9.2/share/hadoop/yarn/lib/aopalliance-1.0.jar:/opt/hadoop-2.9.2/share/hadoop/yarn/lib/jcip-annotations-1.0-1.jar:/opt/hadoop-2.9.2/share/hadoop/yarn/lib/asm-3.2.jar:/opt/hadoop-2.9.2/share/hadoop/yarn/lib/jetty-6.1.26.jar:/opt/hadoop-2.9.2/share/hadoop/yarn/lib/api-asn1-api-1.0.0-M20.jar:/opt/hadoop-2.9.2/share/hadoop/yarn/lib/commons-collections-3.2.2.jar:/opt/hadoop-2.9.2/share/hadoop/yarn/lib/javax.inject-1.jar:/opt/hadoop-2.9.2/share/hadoop/yarn/lib/jsp-api-2.1.jar:/opt/hadoop-2.9.2/share/hadoop/yarn/lib/httpclient-4.5.2.jar:/opt/hadoop-2.9.2/share/hadoop/yarn/lib/zookeeper-3.4.6.jar:/opt/hadoop-2.9.2/share/hadoop/yarn/lib/nimbus-jose-jwt-4.41.1.jar:/opt/hadoop-2.9.2/share/hadoop/yarn/lib/gson-2.2.4.jar:/opt/hadoop-2.9.2/share/hadoop/yarn/lib/commons-math3-3.1.1.jar:/opt/hadoop-2.9.2/share/hadoop/yarn/lib/jsr305-3.0.0.jar:/opt/hadoop-2.9.2/share/hadoop/yarn/lib/htrace-core4-4.1.0-incubating.jar:/opt/hadoop-2.9.2/share/hadoop/yarn/lib/jackson-mapper-asl-1.9.13.jar:/opt/hadoop-2.9.2/share/hadoop/yarn/lib/HikariCP-java7-2.4.12.jar:/opt/hadoop-2.9.2/share/hadoop/yarn/lib/jetty-sslengine-6.1.26.jar:/opt/hadoop-2.9.2/share/hadoop/yarn/lib/commons-lang3-3.4.jar:/opt/hadoop-2.9.2/share/hadoop/yarn/lib/apacheds-kerberos-codec-2.0.0-M15.jar:/opt/hadoop-2.9.2/share/hadoop/yarn/lib/jersey-client-1.9.jar:/opt/hadoop-2.9.2/share/hadoop/yarn/lib/activation-1.1.jar:/opt/hadoop-2.9.2/share/hadoop/yarn/lib/commons-net-3.1.jar:/opt/hadoop-2.9.2/share/hadoop/yarn/lib/jersey-json-1.9.jar:/opt/hadoop-2.9.2/share/hadoop/yarn/lib/avro-1.7.7.jar:/opt/hadoop-2.9.2/share/hadoop/yarn/lib/woodstox-core-5.0.3.jar:/opt/hadoop-2.9.2/share/hadoop/yarn/lib/jackson-jaxrs-1.9.13.jar:/opt/hadoop-2.9.2/share/hadoop/yarn/lib/java-xmlbuilder-0.4.jar:/opt/hadoop-2.9.2/share/hadoop/yarn/lib/guava-11.0.2.jar:/opt/hadoop-2.9.2/share/hadoop/yarn/lib/jaxb-api-2.2.2.jar:/opt/hadoop-2.9.2/share/hadoop/yarn/lib/jackson-xc-1.9.13.jar:/opt/hadoop-2.9.2/share/hadoop/yarn/lib/guice-servlet-3.0.jar:/opt/hadoop-2.9.2/share/hadoop/yarn/lib/commons-configuration-1.6.jar:/opt/hadoop-2.9.2/share/hadoop/yarn/lib/guice-3.0.jar:/opt/hadoop-2.9.2/share/hadoop/yarn/lib/protobuf-java-2.5.0.jar:/opt/hadoop-2.9.2/share/hadoop/yarn/lib/commons-compress-1.4.1.jar:/opt/hadoop-2.9.2/share/hadoop/yarn/lib/stax2-api-3.1.4.jar:/opt/hadoop-2.9.2/share/hadoop/yarn/lib/curator-recipes-2.7.1.jar:/opt/hadoop-2.9.2/share/hadoop/yarn/lib/netty-3.6.2.Final.jar:/opt/hadoop-2.9.2/share/hadoop/yarn/lib/jersey-server-1.9.jar:/opt/hadoop-2.9.2/share/hadoop/yarn/lib/snappy-java-1.0.5.jar:/opt/hadoop-2.9.2/share/hadoop/yarn/lib/curator-client-2.7.1.jar:/opt/hadoop-2.9.2/share/hadoop/yarn/lib/jets3t-0.9.0.jar:/opt/hadoop-2.9.2/share/hadoop/yarn/lib/stax-api-1.0-2.jar:/opt/hadoop-2.9.2/share/hadoop/yarn/lib/httpcore-4.4.4.jar:/opt/hadoop-2.9.2/share/hadoop/yarn/lib/commons-beanutils-1.7.0.jar:/opt/hadoop-2.9.2/share/hadoop/yarn/lib/fst-2.50.jar:/opt/hadoop-2.9.2/share/hadoop/yarn/lib/commons-logging-1.1.3.jar:/opt/hadoop-2.9.2/share/hadoop/yarn/lib/xmlenc-0.52.jar:/opt/hadoop-2.9.2/share/hadoop/yarn/lib/metrics-core-3.0.1.jar:/opt/hadoop-2.9.2/share/hadoop/yarn/lib/curator-framework-2.7.1.jar:/opt/hadoop-2.9.2/share/hadoop/yarn/lib/api-util-1.0.0-M20.jar:/opt/hadoop-2.9.2/share/hadoop/yarn/lib/xz-1.0.jar:/opt/hadoop-2.9.2/share/hadoop/yarn/lib/mssql-jdbc-6.2.1.jre7.jar:/opt/hadoop-2.9.2/share/hadoop/yarn/lib/jackson-core-asl-1.9.13.jar:/opt/hadoop-2.9.2/share/hadoop/yarn/lib/commons-beanutils-core-1.8.0.jar:/opt/hadoop-2.9.2/share/hadoop/yarn/lib/leveldbjni-all-1.8.jar:/opt/hadoop-2.9.2/share/hadoop/yarn/lib/commons-lang-2.6.jar:/opt/hadoop-2.9.2/share/hadoop/yarn/lib/commons-digester-1.8.jar:/opt/hadoop-2.9.2/share/hadoop/yarn/lib/jettison-1.1.jar:/opt/hadoop-2.9.2/share/hadoop/yarn/lib/jersey-core-1.9.jar:/opt/hadoop-2.9.2/share/hadoop/yarn/lib/commons-codec-1.4.jar:/opt/hadoop-2.9.2/share/hadoop/yarn/hadoop-yarn-applications-unmanaged-am-launcher-2.9.2.jar:/opt/hadoop-2.9.2/share/hadoop/yarn/hadoop-yarn-applications-distributedshell-2.9.2.jar:/opt/hadoop-2.9.2/share/hadoop/yarn/hadoop-yarn-server-web-proxy-2.9.2.jar:/opt/hadoop-2.9.2/share/hadoop/yarn/hadoop-yarn-server-timeline-pluginstorage-2.9.2.jar:/opt/hadoop-2.9.2/share/hadoop/yarn/hadoop-yarn-server-applicationhistoryservice-2.9.2.jar:/opt/hadoop-2.9.2/share/hadoop/yarn/hadoop-yarn-server-common-2.9.2.jar:/opt/hadoop-2.9.2/share/hadoop/yarn/hadoop-yarn-registry-2.9.2.jar:/opt/hadoop-2.9.2/share/hadoop/yarn/hadoop-yarn-server-resourcemanager-2.9.2.jar:/opt/hadoop-2.9.2/share/hadoop/yarn/hadoop-yarn-client-2.9.2.jar:/opt/hadoop-2.9.2/share/hadoop/yarn/hadoop-yarn-common-2.9.2.jar:/opt/hadoop-2.9.2/share/hadoop/yarn/hadoop-yarn-api-2.9.2.jar:/opt/hadoop-2.9.2/share/hadoop/yarn/hadoop-yarn-server-sharedcachemanager-2.9.2.jar:/opt/hadoop-2.9.2/share/hadoop/yarn/hadoop-yarn-server-nodemanager-2.9.2.jar:/opt/hadoop-2.9.2/share/hadoop/yarn/hadoop-yarn-server-router-2.9.2.jar:/opt/hadoop-2.9.2/share/hadoop/yarn/hadoop-yarn-server-tests-2.9.2.jar:/opt/hadoop-2.9.2/share/hadoop/mapreduce/lib/commons-io-2.4.jar:/opt/hadoop-2.9.2/share/hadoop/mapreduce/lib/jersey-guice-1.9.jar:/opt/hadoop-2.9.2/share/hadoop/mapreduce/lib/paranamer-2.3.jar:/opt/hadoop-2.9.2/share/hadoop/mapreduce/lib/log4j-1.2.17.jar:/opt/hadoop-2.9.2/share/hadoop/mapreduce/lib/aopalliance-1.0.jar:/opt/hadoop-2.9.2/share/hadoop/mapreduce/lib/asm-3.2.jar:/opt/hadoop-2.9.2/share/hadoop/mapreduce/lib/junit-4.11.jar:/opt/hadoop-2.9.2/share/hadoop/mapreduce/lib/hadoop-annotations-2.9.2.jar:/opt/hadoop-2.9.2/share/hadoop/mapreduce/lib/javax.inject-1.jar:/opt/hadoop-2.9.2/share/hadoop/mapreduce/lib/jackson-mapper-asl-1.9.13.jar:/opt/hadoop-2.9.2/share/hadoop/mapreduce/lib/avro-1.7.7.jar:/opt/hadoop-2.9.2/share/hadoop/mapreduce/lib/guice-servlet-3.0.jar:/opt/hadoop-2.9.2/share/hadoop/mapreduce/lib/guice-3.0.jar:/opt/hadoop-2.9.2/share/hadoop/mapreduce/lib/protobuf-java-2.5.0.jar:/opt/hadoop-2.9.2/share/hadoop/mapreduce/lib/commons-compress-1.4.1.jar:/opt/hadoop-2.9.2/share/hadoop/mapreduce/lib/netty-3.6.2.Final.jar:/opt/hadoop-2.9.2/share/hadoop/mapreduce/lib/jersey-server-1.9.jar:/opt/hadoop-2.9.2/share/hadoop/mapreduce/lib/snappy-java-1.0.5.jar:/opt/hadoop-2.9.2/share/hadoop/mapreduce/lib/xz-1.0.jar:/opt/hadoop-2.9.2/share/hadoop/mapreduce/lib/jackson-core-asl-1.9.13.jar:/opt/hadoop-2.9.2/share/hadoop/mapreduce/lib/leveldbjni-all-1.8.jar:/opt/hadoop-2.9.2/share/hadoop/mapreduce/lib/jersey-core-1.9.jar:/opt/hadoop-2.9.2/share/hadoop/mapreduce/lib/hamcrest-core-1.3.jar:/opt/hadoop-2.9.2/share/hadoop/mapreduce/hadoop-mapreduce-client-hs-plugins-2.9.2.jar:/opt/hadoop-2.9.2/share/hadoop/mapreduce/hadoop-mapreduce-client-shuffle-2.9.2.jar:/opt/hadoop-2.9.2/share/hadoop/mapreduce/hadoop-mapreduce-client-hs-2.9.2.jar:/opt/hadoop-2.9.2/share/hadoop/mapreduce/hadoop-mapreduce-client-jobclient-2.9.2-tests.jar:/opt/hadoop-2.9.2/share/hadoop/mapreduce/hadoop-mapreduce-client-common-2.9.2.jar:/opt/hadoop-2.9.2/share/hadoop/mapreduce/hadoop-mapreduce-client-jobclient-2.9.2.jar:/opt/hadoop-2.9.2/share/hadoop/mapreduce/hadoop-mapreduce-client-app-2.9.2.jar:/opt/hadoop-2.9.2/share/hadoop/mapreduce/hadoop-mapreduce-examples-2.9.2.jar:/opt/hadoop-2.9.2/share/hadoop/mapreduce/hadoop-mapreduce-client-core-2.9.2.jar:/contrib/capacity-scheduler/*.jar\n"
     ]
    },
    {
     "name": "stdout",
     "output_type": "stream",
     "text": [
      "STARTUP_MSG:   build = https://git-wip-us.apache.org/repos/asf/hadoop.git -r 826afbeae31ca687bc2f8471dc841b66ed2c6704; compiled by 'ajisaka' on 2018-11-13T12:42Z\n",
      "STARTUP_MSG:   java = 11.0.1\n",
      "************************************************************/\n",
      "18/12/16 00:20:18 INFO namenode.NameNode: registered UNIX signal handlers for [TERM, HUP, INT]\n",
      "18/12/16 00:20:18 INFO namenode.NameNode: createNameNode [-format]\n",
      "WARNING: An illegal reflective access operation has occurred\n",
      "WARNING: Illegal reflective access by org.apache.hadoop.security.authentication.util.KerberosUtil (file:/opt/hadoop-2.9.2/share/hadoop/common/lib/hadoop-auth-2.9.2.jar) to method sun.security.krb5.Config.getInstance()\n",
      "WARNING: Please consider reporting this to the maintainers of org.apache.hadoop.security.authentication.util.KerberosUtil\n",
      "WARNING: Use --illegal-access=warn to enable warnings of further illegal reflective access operations\n",
      "WARNING: All illegal access operations will be denied in a future release\n",
      "18/12/16 00:20:19 WARN common.Util: Path /hadoop-data/dfs/name should be specified as a URI in configuration files. Please update hdfs configuration.\n",
      "18/12/16 00:20:19 WARN common.Util: Path /hadoop-data/dfs/name should be specified as a URI in configuration files. Please update hdfs configuration.\n",
      "Formatting using clusterid: CID-bdbee8ea-4e79-4331-a8c0-4029b89a73dd\n",
      "18/12/16 00:20:19 INFO namenode.FSEditLog: Edit logging is async:true\n",
      "18/12/16 00:20:19 INFO namenode.FSNamesystem: KeyProvider: null\n",
      "18/12/16 00:20:19 INFO namenode.FSNamesystem: fsLock is fair: true\n",
      "18/12/16 00:20:19 INFO namenode.FSNamesystem: Detailed lock hold time metrics enabled: false\n",
      "18/12/16 00:20:19 INFO namenode.FSNamesystem: fsOwner             = hadoop (auth:SIMPLE)\n",
      "18/12/16 00:20:19 INFO namenode.FSNamesystem: supergroup          = supergroup\n",
      "18/12/16 00:20:19 INFO namenode.FSNamesystem: isPermissionEnabled = true\n",
      "18/12/16 00:20:19 INFO namenode.FSNamesystem: HA Enabled: false\n",
      "18/12/16 00:20:19 INFO common.Util: dfs.datanode.fileio.profiling.sampling.percentage set to 0. Disabling file IO profiling\n",
      "18/12/16 00:20:19 INFO blockmanagement.DatanodeManager: dfs.block.invalidate.limit: configured=1000, counted=60, effected=1000\n",
      "18/12/16 00:20:19 INFO blockmanagement.DatanodeManager: dfs.namenode.datanode.registration.ip-hostname-check=true\n",
      "18/12/16 00:20:19 INFO blockmanagement.BlockManager: dfs.namenode.startup.delay.block.deletion.sec is set to 000:00:00:00.000\n",
      "18/12/16 00:20:19 INFO blockmanagement.BlockManager: The block deletion will start around 2018 Dec 16 00:20:19\n",
      "18/12/16 00:20:19 INFO util.GSet: Computing capacity for map BlocksMap\n",
      "18/12/16 00:20:19 INFO util.GSet: VM type       = 64-bit\n",
      "18/12/16 00:20:19 INFO util.GSet: 2.0% max memory 966.7 MB = 19.3 MB\n",
      "18/12/16 00:20:19 INFO util.GSet: capacity      = 2^21 = 2097152 entries\n",
      "18/12/16 00:20:19 INFO blockmanagement.BlockManager: dfs.block.access.token.enable=false\n",
      "18/12/16 00:20:19 WARN conf.Configuration: No unit for dfs.heartbeat.interval(3) assuming SECONDS\n",
      "18/12/16 00:20:19 WARN conf.Configuration: No unit for dfs.namenode.safemode.extension(30000) assuming MILLISECONDS\n",
      "18/12/16 00:20:19 INFO blockmanagement.BlockManagerSafeMode: dfs.namenode.safemode.threshold-pct = 0.9990000128746033\n",
      "18/12/16 00:20:19 INFO blockmanagement.BlockManagerSafeMode: dfs.namenode.safemode.min.datanodes = 0\n",
      "18/12/16 00:20:19 INFO blockmanagement.BlockManagerSafeMode: dfs.namenode.safemode.extension = 30000\n",
      "18/12/16 00:20:19 INFO blockmanagement.BlockManager: defaultReplication         = 1\n",
      "18/12/16 00:20:19 INFO blockmanagement.BlockManager: maxReplication             = 512\n",
      "18/12/16 00:20:19 INFO blockmanagement.BlockManager: minReplication             = 1\n",
      "18/12/16 00:20:19 INFO blockmanagement.BlockManager: maxReplicationStreams      = 2\n",
      "18/12/16 00:20:19 INFO blockmanagement.BlockManager: replicationRecheckInterval = 3000\n",
      "18/12/16 00:20:19 INFO blockmanagement.BlockManager: encryptDataTransfer        = false\n",
      "18/12/16 00:20:19 INFO blockmanagement.BlockManager: maxNumBlocksToLog          = 1000\n",
      "18/12/16 00:20:19 INFO namenode.FSNamesystem: Append Enabled: true\n",
      "18/12/16 00:20:20 INFO namenode.FSDirectory: GLOBAL serial map: bits=24 maxEntries=16777215\n",
      "18/12/16 00:20:20 INFO util.GSet: Computing capacity for map INodeMap\n",
      "18/12/16 00:20:20 INFO util.GSet: VM type       = 64-bit\n",
      "18/12/16 00:20:20 INFO util.GSet: 1.0% max memory 966.7 MB = 9.7 MB\n",
      "18/12/16 00:20:20 INFO util.GSet: capacity      = 2^20 = 1048576 entries\n",
      "18/12/16 00:20:20 INFO namenode.FSDirectory: ACLs enabled? false\n",
      "18/12/16 00:20:20 INFO namenode.FSDirectory: XAttrs enabled? true\n",
      "18/12/16 00:20:20 INFO namenode.NameNode: Caching file names occurring more than 10 times\n",
      "18/12/16 00:20:20 INFO snapshot.SnapshotManager: Loaded config captureOpenFiles: falseskipCaptureAccessTimeOnlyChange: false\n",
      "18/12/16 00:20:20 INFO util.GSet: Computing capacity for map cachedBlocks\n",
      "18/12/16 00:20:20 INFO util.GSet: VM type       = 64-bit\n",
      "18/12/16 00:20:20 INFO util.GSet: 0.25% max memory 966.7 MB = 2.4 MB\n",
      "18/12/16 00:20:20 INFO util.GSet: capacity      = 2^18 = 262144 entries\n",
      "18/12/16 00:20:20 INFO metrics.TopMetrics: NNTop conf: dfs.namenode.top.window.num.buckets = 10\n",
      "18/12/16 00:20:20 INFO metrics.TopMetrics: NNTop conf: dfs.namenode.top.num.users = 10\n",
      "18/12/16 00:20:20 INFO metrics.TopMetrics: NNTop conf: dfs.namenode.top.windows.minutes = 1,5,25\n",
      "18/12/16 00:20:20 INFO namenode.FSNamesystem: Retry cache on namenode is enabled\n",
      "18/12/16 00:20:20 INFO namenode.FSNamesystem: Retry cache will use 0.03 of total heap and retry cache entry expiry time is 600000 millis\n",
      "18/12/16 00:20:20 INFO util.GSet: Computing capacity for map NameNodeRetryCache\n",
      "18/12/16 00:20:20 INFO util.GSet: VM type       = 64-bit\n",
      "18/12/16 00:20:20 INFO util.GSet: 0.029999999329447746% max memory 966.7 MB = 297.0 KB\n",
      "18/12/16 00:20:20 INFO util.GSet: capacity      = 2^15 = 32768 entries\n",
      "18/12/16 00:20:20 INFO namenode.FSImage: Allocated new BlockPoolId: BP-995564776-10.12.12.117-1544919620302\n",
      "18/12/16 00:20:20 INFO common.Storage: Storage directory /hadoop-data/dfs/name has been successfully formatted.\n",
      "18/12/16 00:20:20 INFO namenode.FSImageFormatProtobuf: Saving image file /hadoop-data/dfs/name/current/fsimage.ckpt_0000000000000000000 using no compression\n",
      "18/12/16 00:20:20 INFO namenode.FSImageFormatProtobuf: Image file /hadoop-data/dfs/name/current/fsimage.ckpt_0000000000000000000 of size 324 bytes saved in 0 seconds .\n",
      "18/12/16 00:20:20 INFO namenode.NNStorageRetentionManager: Going to retain 1 images with txid >= 0\n",
      "18/12/16 00:20:20 INFO namenode.NameNode: SHUTDOWN_MSG: \n",
      "/************************************************************\n",
      "SHUTDOWN_MSG: Shutting down NameNode at jupyter-serhatcevikel-2dbdm-5f2018-5ftest2-2d9zlg3raf/10.12.12.117\n",
      "************************************************************/\n"
     ]
    }
   ],
   "source": [
    "hdfs namenode -format"
   ]
  },
  {
   "cell_type": "markdown",
   "metadata": {},
   "source": [
    "WARNING: An illegal reflective access operation has occurred"
   ]
  },
  {
   "cell_type": "markdown",
   "metadata": {},
   "source": [
    "DEPRECATED: Use of this script to execute hdfs command is deprecated.\n",
    "Instead use the hdfs command for it."
   ]
  },
  {
   "cell_type": "code",
   "execution_count": 23,
   "metadata": {},
   "outputs": [
    {
     "name": "stdout",
     "output_type": "stream",
     "text": [
      "WARNING: An illegal reflective access operation has occurred\n",
      "WARNING: Illegal reflective access by org.apache.hadoop.security.authentication.util.KerberosUtil (file:/opt/hadoop-2.9.2/share/hadoop/common/lib/hadoop-auth-2.9.2.jar) to method sun.security.krb5.Config.getInstance()\n",
      "WARNING: Please consider reporting this to the maintainers of org.apache.hadoop.security.authentication.util.KerberosUtil\n",
      "WARNING: Use --illegal-access=warn to enable warnings of further illegal reflective access operations\n",
      "WARNING: All illegal access operations will be denied in a future release\n",
      "Starting namenodes on [localhost]\n",
      "localhost: Warning: Permanently added 'localhost' (ECDSA) to the list of known hosts.\n",
      "localhost: starting namenode, logging to /opt/hadoop-2.9.2/logs/hadoop-hadoop-namenode-jupyter-serhatcevikel-2dbdm-5f2018-5ftest2-2d9zlg3raf.out\n",
      "localhost: starting datanode, logging to /opt/hadoop-2.9.2/logs/hadoop-hadoop-datanode-jupyter-serhatcevikel-2dbdm-5f2018-5ftest2-2d9zlg3raf.out\n",
      "Starting secondary namenodes [0.0.0.0]\n",
      "0.0.0.0: Warning: Permanently added '0.0.0.0' (ECDSA) to the list of known hosts.\n",
      "0.0.0.0: starting secondarynamenode, logging to /opt/hadoop-2.9.2/logs/hadoop-hadoop-secondarynamenode-jupyter-serhatcevikel-2dbdm-5f2018-5ftest2-2d9zlg3raf.out\n",
      "WARNING: An illegal reflective access operation has occurred\n",
      "WARNING: Illegal reflective access by org.apache.hadoop.security.authentication.util.KerberosUtil (file:/opt/hadoop-2.9.2/share/hadoop/common/lib/hadoop-auth-2.9.2.jar) to method sun.security.krb5.Config.getInstance()\n",
      "WARNING: Please consider reporting this to the maintainers of org.apache.hadoop.security.authentication.util.KerberosUtil\n",
      "WARNING: Use --illegal-access=warn to enable warnings of further illegal reflective access operations\n",
      "WARNING: All illegal access operations will be denied in a future release\n"
     ]
    }
   ],
   "source": [
    "start-dfs.sh"
   ]
  },
  {
   "cell_type": "code",
   "execution_count": 24,
   "metadata": {},
   "outputs": [
    {
     "name": "stdout",
     "output_type": "stream",
     "text": [
      "starting yarn daemons\n",
      "starting resourcemanager, logging to /opt/hadoop-2.9.2/logs/yarn-root-resourcemanager-jupyter-serhatcevikel-2dbdm-5f2018-5ftest2-2d9zlg3raf.out\n",
      "localhost: starting nodemanager, logging to /opt/hadoop-2.9.2/logs/yarn-hadoop-nodemanager-jupyter-serhatcevikel-2dbdm-5f2018-5ftest2-2d9zlg3raf.out\n"
     ]
    }
   ],
   "source": [
    "start-yarn.sh"
   ]
  },
  {
   "cell_type": "code",
   "execution_count": 25,
   "metadata": {},
   "outputs": [
    {
     "name": "stdout",
     "output_type": "stream",
     "text": [
      "544 SecondaryNameNode\n",
      "801 NodeManager\n",
      "706 ResourceManager\n",
      "1046 Jps\n",
      "263 NameNode\n",
      "359 DataNode\n"
     ]
    }
   ],
   "source": [
    "jps"
   ]
  },
  {
   "cell_type": "code",
   "execution_count": 27,
   "metadata": {},
   "outputs": [
    {
     "name": "stdout",
     "output_type": "stream",
     "text": [
      "WARNING: An illegal reflective access operation has occurred\n",
      "WARNING: Illegal reflective access by org.apache.hadoop.security.authentication.util.KerberosUtil (file:/opt/hadoop-2.9.2/share/hadoop/common/lib/hadoop-auth-2.9.2.jar) to method sun.security.krb5.Config.getInstance()\n",
      "WARNING: Please consider reporting this to the maintainers of org.apache.hadoop.security.authentication.util.KerberosUtil\n",
      "WARNING: Use --illegal-access=warn to enable warnings of further illegal reflective access operations\n",
      "WARNING: All illegal access operations will be denied in a future release\n",
      "Configured Capacity: 1052500430848 (980.22 GB)\n",
      "Present Capacity: 171020177408 (159.27 GB)\n",
      "DFS Remaining: 171020152832 (159.27 GB)\n",
      "DFS Used: 24576 (24 KB)\n",
      "DFS Used%: 0.00%\n",
      "Under replicated blocks: 0\n",
      "Blocks with corrupt replicas: 0\n",
      "Missing blocks: 0\n",
      "Missing blocks (with replication factor 1): 0\n",
      "Pending deletion blocks: 0\n",
      "\n",
      "-------------------------------------------------\n",
      "Live datanodes (1):\n",
      "\n",
      "Name: 127.0.0.1:50010 (localhost)\n",
      "Hostname: jupyter-serhatcevikel-2dbdm-5f2018-5ftest2-2d9zlg3raf\n",
      "Decommission Status : Normal\n",
      "Configured Capacity: 1052500430848 (980.22 GB)\n",
      "DFS Used: 24576 (24 KB)\n",
      "Non DFS Used: 881463476224 (820.93 GB)\n",
      "DFS Remaining: 171020152832 (159.27 GB)\n",
      "DFS Used%: 0.00%\n",
      "DFS Remaining%: 16.25%\n",
      "Configured Cache Capacity: 0 (0 B)\n",
      "Cache Used: 0 (0 B)\n",
      "Cache Remaining: 0 (0 B)\n",
      "Cache Used%: 100.00%\n",
      "Cache Remaining%: 0.00%\n",
      "Xceivers: 1\n",
      "Last contact: Sun Dec 16 00:27:39 UTC 2018\n",
      "Last Block Report: Sun Dec 16 00:26:09 UTC 2018\n",
      "\n",
      "\n"
     ]
    }
   ],
   "source": [
    "hdfs dfsadmin -report"
   ]
  },
  {
   "cell_type": "code",
   "execution_count": 30,
   "metadata": {},
   "outputs": [
    {
     "name": "stdout",
     "output_type": "stream",
     "text": [
      "Found 1 items\n",
      "-rw-r--r--   1 hadoop supergroup      28878 2018-12-16 00:28 /selected_info.tsv\n"
     ]
    }
   ],
   "source": [
    "hdfs dfs -ls / 2> /dev/null"
   ]
  },
  {
   "cell_type": "code",
   "execution_count": 29,
   "metadata": {},
   "outputs": [],
   "source": [
    "hdfs dfs -put ~/selected_info.tsv / 2> /dev/null"
   ]
  },
  {
   "cell_type": "code",
   "execution_count": null,
   "metadata": {},
   "outputs": [],
   "source": [
    "stop-dfs.sh"
   ]
  },
  {
   "cell_type": "code",
   "execution_count": null,
   "metadata": {},
   "outputs": [],
   "source": [
    "stop-yarn.sh"
   ]
  }
 ],
 "metadata": {
  "kernelspec": {
   "display_name": "Bash",
   "language": "bash",
   "name": "bash"
  },
  "language_info": {
   "codemirror_mode": "shell",
   "file_extension": ".sh",
   "mimetype": "text/x-sh",
   "name": "bash"
  },
  "toc": {
   "base_numbering": 1,
   "nav_menu": {},
   "number_sections": true,
   "sideBar": true,
   "skip_h1_title": false,
   "title_cell": "Table of Contents",
   "title_sidebar": "Contents",
   "toc_cell": false,
   "toc_position": {},
   "toc_section_display": true,
   "toc_window_display": false
  }
 },
 "nbformat": 4,
 "nbformat_minor": 2
}
