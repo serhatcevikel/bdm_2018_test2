{
 "cells": [
  {
   "cell_type": "markdown",
   "metadata": {
    "kernel": "SoS"
   },
   "source": [
    "# NOSQL AND QUERYING JSON AND XML/HTML OBJECTS/FILES"
   ]
  },
  {
   "cell_type": "markdown",
   "metadata": {
    "kernel": "SoS"
   },
   "source": [
    "## Working with JSON Objects"
   ]
  },
  {
   "cell_type": "markdown",
   "metadata": {
    "kernel": "SoS"
   },
   "source": [
    "- JSON is a hierarchical data format that allows data that is not appropriate to be formatted as columns and rows to be stored and queried.\n",
    "\n",
    "- Let's say we are tracking our contact data in a csv file:\n",
    "\n",
    "```\n",
    "Lastname, Firstname, Phone Number\n",
    "\n",
    "Membrey, Peter, +852 1234 5678\n",
    "\n",
    "Thielen, Wouter, +81 1234 5678\n",
    "```"
   ]
  },
  {
   "cell_type": "markdown",
   "metadata": {
    "kernel": "SoS"
   },
   "source": [
    "- If one of the contacts have more than one phone numbers, we have to create a new column\n",
    "\n",
    "```\n",
    "Lastname, Firstname, Phone Number1, Phone Number2\n",
    "\n",
    "Membrey, Peter, +852 1234 5678, +44 1234 565 555\n",
    "\n",
    "Thielen, Wouter, +81 1234 5678\n",
    "```"
   ]
  },
  {
   "cell_type": "markdown",
   "metadata": {
    "kernel": "SoS"
   },
   "source": [
    "- But suppose, we have million of records with tens of fields, and in some exceptions, some records may have many multiple values of some fields: e.g. 10 telephone numbers, etc\n",
    "\n",
    "- JSON format is a remedy for these kinds of flexibility issues and hierarchical data formats.\n",
    "\n",
    "- Integrity rules are softer for handling JSON data"
   ]
  },
  {
   "cell_type": "markdown",
   "metadata": {
    "kernel": "SoS"
   },
   "source": [
    "- JSON stands for \"JavaScript Object Notation\"\n",
    "- In JSON, each record is called a \"document\"\n",
    "- Let's write the first record as a JSON document:"
   ]
  },
  {
   "cell_type": "code",
   "execution_count": null,
   "metadata": {
    "kernel": "Bash"
   },
   "outputs": [],
   "source": [
    "record1='{\n",
    "\"firstname\": \"Peter\",\n",
    "\"lastname\": \"Membrey\",\n",
    "\"phone_numbers\": [\n",
    "\"+852 1234 5678\",\n",
    "\"+44 1234 565 555\"\n",
    "]\n",
    "}'\n",
    "\n",
    "echo $record1"
   ]
  },
  {
   "cell_type": "markdown",
   "metadata": {
    "kernel": "Bash"
   },
   "source": [
    "- Echoing the JSON as comma separated values as such, is not easy to parse and understand the format.\n",
    "\n",
    "- We may use online json parsers for this purpose.\n",
    "\n",
    "- You can copy and paste the above string into the input pane:\n",
    "\n",
    "http://jsonparseronline.com/"
   ]
  },
  {
   "cell_type": "markdown",
   "metadata": {
    "heading_collapsed": true,
    "kernel": "Bash"
   },
   "source": [
    "### Querying JSON with JQ"
   ]
  },
  {
   "cell_type": "markdown",
   "metadata": {
    "hidden": true,
    "kernel": "Bash"
   },
   "source": [
    "- Or better, we will use a handy tool called \"jq\" for this purpose:"
   ]
  },
  {
   "cell_type": "code",
   "execution_count": null,
   "metadata": {
    "hidden": true,
    "kernel": "Bash"
   },
   "outputs": [],
   "source": [
    "echo $record1 | jq ."
   ]
  },
  {
   "cell_type": "markdown",
   "metadata": {
    "hidden": true,
    "kernel": "Bash"
   },
   "source": [
    "jq is a parser and querying tool for json, that creates a nice output\n",
    "\n",
    "You can have more info on jq following the links:\n",
    "\n",
    "[The Home Page](https://stedolan.github.io/jq/)\n",
    "\n",
    "[Tutorial](https://stedolan.github.io/jq/tutorial/)\n",
    "\n",
    "[Manual](https://stedolan.github.io/jq/manual/)"
   ]
  },
  {
   "cell_type": "markdown",
   "metadata": {
    "hidden": true,
    "kernel": "Bash"
   },
   "source": [
    "- Each document (equivalent to a row in RDBMS) in JSON is delimited by curly braces \"{\"\n",
    "- And all values are given as \"key\" and \"value\" pairs:\n",
    "\n",
    "```json\n",
    "{\n",
    "  \"firstname\": \"Peter\",\n",
    "  \"lastname\": \"Membrey\",\n",
    "  \"phone_numbers\": [\n",
    "    \"+852 1234 5678\",\n",
    "    \"+44 1234 565 555\"\n",
    "  ]\n",
    "}\n",
    "```\n",
    "\n",
    "- firstname is the key, \"Peter\" is the value, an so on\n",
    "\n",
    "- We also have arrays of values for a single key, delimited by square brackets []"
   ]
  },
  {
   "cell_type": "markdown",
   "metadata": {
    "hidden": true,
    "kernel": "Bash"
   },
   "source": [
    "- What is more powerful about JSON format is that you can embedded documents inside other ones: (we print the data here in three visual formats)"
   ]
  },
  {
   "cell_type": "code",
   "execution_count": null,
   "metadata": {
    "hidden": true,
    "kernel": "Bash"
   },
   "outputs": [],
   "source": [
    "record1b='{\n",
    "\"firstname\": \"Peter\",\n",
    "\"lastname\": \"Membrey\",\n",
    "\"numbers\": [\n",
    "{\n",
    "\"phone\": \"+852 1234 5678\"\n",
    "},\n",
    "{\n",
    "\"fax\": \"+44 1234 565 555\"\n",
    "}\n",
    "]\n",
    "}'\n",
    "\n",
    "echo -e $record1b \"\\n\"\n",
    "\n",
    "echo -e \"$record1b\\n\"\n",
    "\n",
    "echo $record1b | jq ."
   ]
  },
  {
   "cell_type": "markdown",
   "metadata": {
    "hidden": true,
    "kernel": "Bash"
   },
   "source": [
    "- See, the phone and fax numbers are inside embedded documents"
   ]
  },
  {
   "cell_type": "markdown",
   "metadata": {
    "hidden": true,
    "kernel": "Bash"
   },
   "source": [
    "- Multiple documents can be \"collected\" inside \"collections\":\n",
    "\n",
    "- A \"collection\" in NoSQL terminology is analogous to a \"table\" in the RDBMS jargon. A collection is a collection of similar items (or documents with similar key-value pairs)"
   ]
  },
  {
   "cell_type": "markdown",
   "metadata": {
    "kernel": "Bash"
   },
   "source": [
    "### A real json database example: UN COMTRADE"
   ]
  },
  {
   "cell_type": "markdown",
   "metadata": {
    "kernel": "Bash"
   },
   "source": [
    "- We will be using a part of the UN COMTRADE database:\n",
    "\n",
    "[UN COMTRADE](https://comtrade.un.org/)\n",
    "\n",
    "UN COMTRADE is the widest and most comprehensive database on international trade:\n",
    "\n",
    "- 250+ reporter countries\n",
    "- 290+ partner countries\n",
    "- 6500+ commodity codes\n",
    "- 50+ of history\n",
    "- Both imports and exports\n",
    "- Both values and quantities!"
   ]
  },
  {
   "cell_type": "markdown",
   "metadata": {
    "kernel": "Bash"
   },
   "source": [
    "Let's first save the path:"
   ]
  },
  {
   "cell_type": "code",
   "execution_count": null,
   "metadata": {
    "kernel": "Bash"
   },
   "outputs": [],
   "source": [
    "datadir=~/data\n",
    "comtrade=$datadir/comtrade_s1"
   ]
  },
  {
   "cell_type": "code",
   "execution_count": null,
   "metadata": {
    "kernel": "Bash"
   },
   "outputs": [],
   "source": [
    "ls $comtrade"
   ]
  },
  {
   "cell_type": "markdown",
   "metadata": {
    "kernel": "Bash"
   },
   "source": [
    "- classificationS1.json lists the item classification according to SITC1 method\n",
    "- reporterAreas.json and partnerAreas.json lists the countries and their respective codes\n",
    "- data files are under 2010"
   ]
  },
  {
   "cell_type": "markdown",
   "metadata": {
    "kernel": "Bash"
   },
   "source": [
    "#### Reporters"
   ]
  },
  {
   "cell_type": "code",
   "execution_count": null,
   "metadata": {
    "kernel": "Bash"
   },
   "outputs": [],
   "source": [
    "jq . $comtrade/reporterAreas.json"
   ]
  },
  {
   "cell_type": "markdown",
   "metadata": {
    "kernel": "Bash"
   },
   "source": [
    "Another way to pretty print and navigate through json files is R:"
   ]
  },
  {
   "cell_type": "code",
   "execution_count": null,
   "metadata": {
    "kernel": "Bash"
   },
   "outputs": [],
   "source": []
  },
  {
   "cell_type": "code",
   "execution_count": null,
   "metadata": {
    "kernel": "R"
   },
   "outputs": [],
   "source": [
    "reporter <- jsonlite::fromJSON(\"~/data/comtrade_s1/reporterAreas.json\")\n",
    "reporter"
   ]
  },
  {
   "cell_type": "code",
   "execution_count": null,
   "metadata": {
    "kernel": "R"
   },
   "outputs": [],
   "source": [
    "str(reporter)"
   ]
  },
  {
   "cell_type": "markdown",
   "metadata": {
    "kernel": "R"
   },
   "source": [
    "See that, in not-so-nested structures, the data is automatically flattened into a data frame"
   ]
  },
  {
   "cell_type": "markdown",
   "metadata": {
    "kernel": "R"
   },
   "source": [
    "And a collapsable and interactive gadget for viewing json and similar hierarchical data types: (you may need two execute several times to get the JS gadget)"
   ]
  },
  {
   "cell_type": "code",
   "execution_count": null,
   "metadata": {
    "kernel": "R"
   },
   "outputs": [],
   "source": [
    "listviewer::jsonedit(reporter, mode = \"form\")"
   ]
  },
  {
   "cell_type": "markdown",
   "metadata": {
    "kernel": "Bash"
   },
   "source": [
    "Now let's traverse through this document to list country texts:"
   ]
  },
  {
   "cell_type": "code",
   "execution_count": null,
   "metadata": {
    "kernel": "Bash"
   },
   "outputs": [],
   "source": [
    "jq '.results[].text' $comtrade/reporterAreas.json | tr -d '\"'"
   ]
  },
  {
   "cell_type": "markdown",
   "metadata": {
    "kernel": "Bash"
   },
   "source": [
    "And let's list the country codes:"
   ]
  },
  {
   "cell_type": "code",
   "execution_count": null,
   "metadata": {
    "kernel": "Bash"
   },
   "outputs": [],
   "source": [
    "jq -r '.results[].id' $comtrade/reporterAreas.json"
   ]
  },
  {
   "cell_type": "markdown",
   "metadata": {
    "kernel": "Bash"
   },
   "source": [
    "- Separate lists of country names and id's do not mean much.\n",
    "- Suppose we want to find the country code of turkey"
   ]
  },
  {
   "cell_type": "code",
   "execution_count": null,
   "metadata": {
    "kernel": "Bash"
   },
   "outputs": [],
   "source": [
    "reporters=$(jq -r '.results[] | \"\\(.text)\\t\\(.id)\"' $comtrade/reporterAreas.json | \\\n",
    "xargs -0 -i echo -e \"{}\")\n",
    "\n",
    "echo \"$reporters\" |  column -s $'\\t' -t"
   ]
  },
  {
   "cell_type": "markdown",
   "metadata": {
    "kernel": "Bash"
   },
   "source": [
    "We can filter with grep or awk:"
   ]
  },
  {
   "cell_type": "code",
   "execution_count": null,
   "metadata": {
    "kernel": "Bash"
   },
   "outputs": [],
   "source": [
    "echo \"$reporters\" | awk -F \"\\t\" '$1==\"Turkey\"{print $2}'"
   ]
  },
  {
   "cell_type": "markdown",
   "metadata": {
    "kernel": "Bash"
   },
   "source": [
    "Another way to flatten fields is:"
   ]
  },
  {
   "cell_type": "code",
   "execution_count": null,
   "metadata": {
    "kernel": "Bash"
   },
   "outputs": [],
   "source": [
    "reporters2=$(jq -r '.results[] | .text + \"\\t\" + .id' $comtrade/reporterAreas.json | xargs -0 -i echo -e \"{}\")\n",
    "\n",
    "echo \"$reporters2\" |  column -s $'\\t' -t"
   ]
  },
  {
   "cell_type": "code",
   "execution_count": null,
   "metadata": {
    "kernel": "Bash"
   },
   "outputs": [],
   "source": [
    "echo \"$reporters\" | awk -F \"\\t\" '$1==\"Turkey\"{print $2}'"
   ]
  },
  {
   "cell_type": "markdown",
   "metadata": {
    "kernel": "Bash"
   },
   "source": [
    "Or we can use the \"select\" statement for filtering values:"
   ]
  },
  {
   "cell_type": "code",
   "execution_count": null,
   "metadata": {
    "kernel": "Bash"
   },
   "outputs": [],
   "source": [
    "jq -r '.results[] | select(.text == \"Turkey\") | .id' $comtrade/reporterAreas.json"
   ]
  },
  {
   "cell_type": "markdown",
   "metadata": {
    "kernel": "Bash"
   },
   "source": [
    "- All the files under 2010e directory are files in which Turkey is either a reporter or a partner\n",
    "- So sometimes there exists a pair of files where Turkey and another country swap roles as reporter and partner"
   ]
  },
  {
   "cell_type": "markdown",
   "metadata": {
    "kernel": "Bash"
   },
   "source": [
    "#### Classification"
   ]
  },
  {
   "cell_type": "markdown",
   "metadata": {
    "kernel": "Bash"
   },
   "source": [
    "Now let's go through the classification file:"
   ]
  },
  {
   "cell_type": "code",
   "execution_count": null,
   "metadata": {
    "kernel": "R",
    "scrolled": false
   },
   "outputs": [],
   "source": [
    "classification <- jsonlite::fromJSON(\"~/data/comtrade_s1/classificationS1.json\")\n",
    "listviewer::jsonedit(classification, mode = \"form\")"
   ]
  },
  {
   "cell_type": "markdown",
   "metadata": {
    "kernel": "Bash"
   },
   "source": [
    "Now we will filter for those entries, in which text includes \"textile\" and code is only 3 digits:"
   ]
  },
  {
   "cell_type": "code",
   "execution_count": null,
   "metadata": {
    "kernel": "Bash"
   },
   "outputs": [],
   "source": [
    "jq -r '.results[] | select((.id|test(\"^\\\\d+$\")) and (.text|test(\"(?i)textile\"))) |\n",
    "select((.id|tonumber < 1000) and (.id|tonumber > 99)) | .text' \\\n",
    "$comtrade/classificationS1.json | \\\n",
    "sed 's/ - /\\t/g' | column -s $'\\t' -t"
   ]
  },
  {
   "cell_type": "markdown",
   "metadata": {
    "kernel": "Bash"
   },
   "source": [
    "See how it works:\n",
    "\n",
    "- We filter for id values that are numeric (so exclude ALL, TOTAL, AG1..AG5) and where text includes case insensitive textile\n",
    "- We filter for id values larger than 99 and smaller than 1000\n",
    "- We return the text\n",
    "- The text has already id info at the beginning split with \" - \". We substitute these character with a tab character"
   ]
  },
  {
   "cell_type": "markdown",
   "metadata": {
    "kernel": "Bash"
   },
   "source": [
    "**EXERCISE 1:**\n",
    "\n",
    "Now your turn: Find the id and text of codes parent of which are 651 (Textile yarn and thread).\n",
    "\n",
    "The result will be:\n",
    "\n",
    "```\n",
    "6511  Thrown silk & silk yarn and thread\n",
    "6512  Yarn of wool and animal hair\n",
    "6513  Cotton yarn & thread, grey, not mercerized\n",
    "6514  Cotton yarn & thread, bleached, dyed, mercerd.\n",
    "6515  Yarn and thread of flax, ramie and true hemp\n",
    "6516  Yarn and thread of synthetic fibres\n",
    "6517  Yarn and thread of regenerated fibres\n",
    "6518  Yarn of glass fibre\n",
    "6519  Yarn of textile fibres,nes incl.paper yarn\n",
    "```"
   ]
  },
  {
   "cell_type": "code",
   "execution_count": null,
   "metadata": {
    "kernel": "Bash"
   },
   "outputs": [],
   "source": []
  },
  {
   "cell_type": "markdown",
   "metadata": {
    "kernel": "Bash"
   },
   "source": [
    "**SOLUTION 1:**"
   ]
  },
  {
   "cell_type": "code",
   "execution_count": null,
   "metadata": {
    "kernel": "Bash"
   },
   "outputs": [],
   "source": [
    "pass1=\n",
    "encrypt=\"U2FsdGVkX1+WtEYqehLba8zmJ9evvmr1ohvj0BWaggG2cQUjY/HMZia25jIkV9zR jyLxrSmHJRCX55wFh7JIB9U1sjWJ1cvipesjhECBk3B3GaP97Kjsq9cDu0jnjYu7 cM9b9CKPMJN1Am/sywL5RQT+z0nDKopIuq78l3p+eeqEHQNvloe35hu/y19+lFmt 6f4EG2i1cQ2JJq8bBMyl9g==\"\n",
    "solution=$(echo \"$encrypt\" | openssl enc -aes-128-cbc -a -d -salt -pass pass:$pass1 2> /dev/null)\n",
    "echo \"$solution\"; echo\n",
    "for l in \"$solution\"; do eval \"${l}\"; done"
   ]
  },
  {
   "cell_type": "markdown",
   "metadata": {
    "kernel": "Bash"
   },
   "source": [
    "#### Data files"
   ]
  },
  {
   "cell_type": "markdown",
   "metadata": {
    "kernel": "Bash"
   },
   "source": [
    "Now let's go through the actual data files that includes trade volumes:"
   ]
  },
  {
   "cell_type": "code",
   "execution_count": null,
   "metadata": {
    "kernel": "Bash"
   },
   "outputs": [],
   "source": [
    "ls $comtrade/2010e | { head -5; tail -5; }"
   ]
  },
  {
   "cell_type": "code",
   "execution_count": null,
   "metadata": {
    "kernel": "Bash"
   },
   "outputs": [],
   "source": [
    "ls $comtrade/2010e | grep -P \"2010_792\" | head -5"
   ]
  },
  {
   "cell_type": "markdown",
   "metadata": {
    "kernel": "Bash"
   },
   "source": [
    "- The code after the first underscore is the reporter's and the code after the second underscore is the partner country's code\n",
    "\n",
    "- So there are the files for which Turkey is either a reporter or partner\n",
    "\n",
    "- For how many files Turkey is reporter or a partner?"
   ]
  },
  {
   "cell_type": "code",
   "execution_count": null,
   "metadata": {
    "kernel": "Bash"
   },
   "outputs": [],
   "source": [
    "ls $comtrade/2010e | grep -P \"2010_792\" | wc -l\n",
    "ls $comtrade/2010e | grep -P \"792_s1\" | wc -l"
   ]
  },
  {
   "cell_type": "markdown",
   "metadata": {
    "kernel": "Bash"
   },
   "source": [
    "Turkey reported her trade with 227 partners, while 165 reporter countries reported their trade partnering with Turkey (for s1 classification only)"
   ]
  },
  {
   "cell_type": "code",
   "execution_count": null,
   "metadata": {
    "kernel": "R"
   },
   "outputs": [],
   "source": [
    "tradedata <- jsonlite::fromJSON(\"~/data/comtrade_s1/2010e/2010_792_100_s1.json\")\n",
    "listviewer::jsonedit(tradedata, mode = \"form\")"
   ]
  },
  {
   "cell_type": "markdown",
   "metadata": {
    "kernel": "R"
   },
   "source": [
    "Descriptions for several variables are:\n",
    "\n",
    "- CmdCode: \tCommodity code\n",
    "- CmdDesc: \tCommodity description\n",
    "- IsLeaf: \tBasic code without children\n",
    "- Parentcode: \tHigh level of that commodity code\n",
    "- pfDesc: \tCommodity classification\n",
    "- PfCode: \tCommodity classification code\n",
    "- yr: \tYear\n",
    "- rtCode \tReporter Code\n",
    "- ptCode: \tPartner Code\n",
    "- qtCode: \tQuantity code "
   ]
  },
  {
   "cell_type": "markdown",
   "metadata": {
    "kernel": "R"
   },
   "source": [
    "Now from all files for which Turkey is a reporter, the TradeValue of exports (rgCode is 2) in 651 code (Textile yarn and thread)\n",
    "\n",
    "We will report:\n",
    "- ptTitle (name of partner country)\n",
    "- TradeValue\n",
    "- TradeQuantity "
   ]
  },
  {
   "cell_type": "markdown",
   "metadata": {
    "kernel": "R"
   },
   "source": [
    "For a single file we have:"
   ]
  },
  {
   "cell_type": "code",
   "execution_count": null,
   "metadata": {
    "kernel": "Bash"
   },
   "outputs": [],
   "source": [
    "jq -r '.dataset[] | select(.cmdCode == \"651\" and .rgCode == 2) |\n",
    "\"\\(.ptTitle)\\t\\(.TradeValue)\\t\\(.TradeQuantity)\"' $comtrade/2010e/2010_792_100_s1.json | \\\n",
    "xargs -0 -i echo -e \"{}\""
   ]
  },
  {
   "cell_type": "code",
   "execution_count": null,
   "metadata": {
    "kernel": "Bash"
   },
   "outputs": [],
   "source": [
    "textileexports=$(for file in $comtrade/2010e/2010_792*.json;\n",
    "do\n",
    "    jq -r '.dataset[] | select(.cmdCode == \"651\" and .rgCode == 2) |\n",
    "\"\\(.ptTitle)\\t\\(.TradeValue)\\t\\(.TradeQuantity)\"' $file | \\\n",
    "xargs -0 -i echo -e \"{}\";\n",
    "done)"
   ]
  },
  {
   "cell_type": "code",
   "execution_count": null,
   "metadata": {
    "kernel": "Bash"
   },
   "outputs": [],
   "source": [
    "echo \"$textileexports\" | column -s $'\\t' -t"
   ]
  },
  {
   "cell_type": "markdown",
   "metadata": {
    "kernel": "Bash"
   },
   "source": [
    "Let's exclude World total:"
   ]
  },
  {
   "cell_type": "code",
   "execution_count": null,
   "metadata": {
    "kernel": "Bash"
   },
   "outputs": [],
   "source": [
    "echo \"$textileexports\" | awk -F \"\\t\" '$1 != \"World\"' | \\\n",
    "column -s $'\\t' -t"
   ]
  },
  {
   "cell_type": "code",
   "execution_count": null,
   "metadata": {
    "kernel": "Bash"
   },
   "outputs": [],
   "source": [
    "echo \"$textileexports\" | \\\n",
    "awk -F \"\\t\" '$1 != \"World\"' | \\\n",
    "sort -t $'\\t' -nr -k 2 | \\\n",
    "numfmt -d $'\\t' --field=2-3 --to-unit=M | \\\n",
    "column -s $'\\t' -t"
   ]
  },
  {
   "cell_type": "markdown",
   "metadata": {
    "kernel": "Bash"
   },
   "source": [
    "What we do here:\n",
    "\n",
    "- Exclude the row first field of which had \"World\"\n",
    "- Sort as number in reverse order by second field\n",
    "- Format 2nd-3rd columns in millions\n",
    "- And align columns"
   ]
  },
  {
   "cell_type": "markdown",
   "metadata": {
    "kernel": "Bash"
   },
   "source": [
    "So in 2010, Turkey's significant partners for Textile yarn and thread export are:\n",
    "\n",
    "- Italy (USD 166 mio)\n",
    "- Russion Federation (USD 95 mio)\n",
    "- Germany (USD 86 mio)"
   ]
  },
  {
   "cell_type": "markdown",
   "metadata": {
    "kernel": "Bash"
   },
   "source": [
    "**EXERCISE 2:**\n",
    "\n",
    "- For each file in which Turkey is a partner, return the reporting country name (rtTitle), comodity description (cmdDescE) and trade value (TradeValue) for those items which:\n",
    "- are exported from those countries to Turkey (rgCode is 2)\n",
    "- TradeValue's are at least 500000000 (500 mio)\n",
    "- and are at the most detailed level (IsLeaf is 1) \n",
    "\n",
    "So you should fill in this template below:"
   ]
  },
  {
   "cell_type": "markdown",
   "metadata": {
    "kernel": "Bash"
   },
   "source": [
    "```Bash\n",
    "for file in $comtrade/2010e/*792_s1.json;\n",
    "do\n",
    "    jq -r '#fill in this part' $file | \\\n",
    "    xargs -0 -i echo -e \"{}\";\n",
    "done | \\\n",
    "awk -F \"\\t\" '$1 != \"EU-28\"' | \\\n",
    "sort -t $'\\t' -nr -k 3 | \\\n",
    "numfmt -d $'\\t' --field=3 --to-unit=M | \\\n",
    "column -s $'\\t' -t\n",
    "```"
   ]
  },
  {
   "cell_type": "markdown",
   "metadata": {
    "kernel": "Bash"
   },
   "source": [
    "The outpu will be:\n",
    "\n",
    "```\n",
    "Germany             Passenger motor cars, other than buses           2653\n",
    "Algeria             Gas, natural                                     2591\n",
    "USA                 Special transactions                             2010\n",
    "Russian Federation  Crude petroleum                                  1607\n",
    "Germany             Other parts for motor vehicles                   1231\n",
    "China               Statistical machines cards or tapes              1027\n",
    "France              Other parts for motor vehicles                   1003\n",
    "Germany             Internal combustion engines, not for aircraft    985\n",
    "Russian Federation  Coal /anthracite, bituminous/                    972\n",
    "Germany             Special transactions                             948\n",
    "Spain               Passenger motor cars, other than buses           923\n",
    "Russian Federation  Aluminium and aluminium alloys, unwrought        865\n",
    "USA                 Raw cotton, other than linters                   862\n",
    "Russian Federation  Refined copper including remelted                861\n",
    "Saudi Arabia        Products of polymerization and copolymerization  849\n",
    "Italy               Other parts for motor vehicles                   806\n",
    "France              Aircraft, heavier than air                       799\n",
    "Belgium             Products of polymerization and copolymerization  644\n",
    "Qatar               Gas, natural                                     631\n",
    "Italy               Machinery and mechanical appliances, nes         562\n",
    "```"
   ]
  },
  {
   "cell_type": "markdown",
   "metadata": {
    "kernel": "Bash"
   },
   "source": [
    "You can view a sample data:"
   ]
  },
  {
   "cell_type": "code",
   "execution_count": null,
   "metadata": {
    "kernel": "R",
    "scrolled": true
   },
   "outputs": [],
   "source": [
    "tradedata <- jsonlite::fromJSON(\"~/data/comtrade_s1/2010e/2010_100_792_s1.json\")\n",
    "listviewer::jsonedit(tradedata, mode = \"form\")"
   ]
  },
  {
   "cell_type": "code",
   "execution_count": null,
   "metadata": {
    "kernel": "R"
   },
   "outputs": [],
   "source": []
  },
  {
   "cell_type": "markdown",
   "metadata": {
    "kernel": "R"
   },
   "source": [
    "**SOLUTION 2:**"
   ]
  },
  {
   "cell_type": "code",
   "execution_count": null,
   "metadata": {
    "kernel": "Bash"
   },
   "outputs": [],
   "source": [
    "pass1=\n",
    "encrypt=\"U2FsdGVkX1+4esKDuc9iGGz0tWhqscfUMmjPGTa2MIp+YPGWOvdJZY0ZLMx3XSI5 42ueQ3AERCACRgSCZOnUhnDJG4wgnAgcmv+RXW0fR82yLC6g5M2+t3XuODqTIZag Y+g6DkbnapcedfV2K5hg0ELct8YzomN7648I/vQxCQEYEPlwxv/Pdw7IBEeIgFTH zJ25jJlAKJerLYTl9G+XXr01Pwlh5VS36wh16/opSTYjeh++FgvCCH2WKBiFfLjK oxzjfLBcpcqWLVOQ8ozqCean7tnTPIHR0QzjJeiqJ91jBOLbxPpnyT93Yu5Ikxne MbZ/7zAVqLmQVJCpLj6igmHtYxMv3Ck1HC5RKLX2Qrb8sPygcafwyGRp+r0jEsOk nl3MxKOVMuWIwvA+gmJwQhUJXmf7Zm1YX9tcn3PJe6IWPom2P9esB+GXKMnFkpL9 IsDEP/nvQ5TXe+gDGpKWzlEirPp6CwAB6YNiH/phRMUmrbg2DtsRSvZA9bMslFbf eXrItWZ34YuwnqDSlAaquA==\"\n",
    "solution=$(echo \"$encrypt\" | openssl enc -aes-128-cbc -a -d -salt -pass pass:$pass1 2> /dev/null)\n",
    "echo \"$solution\"; echo\n",
    "for l in \"$solution\"; do eval \"${l}\"; done"
   ]
  },
  {
   "cell_type": "markdown",
   "metadata": {
    "kernel": "Bash"
   },
   "source": [
    "So according to numbers reported by other countries, in 2010 Turkey's largest imports were:\n",
    "\n",
    "- Passenger cars, engines and parts for motor vehicles from Germany and France (some portion for domestic production)\n",
    "- Natural gas, petroleum and Coal from Algeria and Russia\n",
    "- (Probably) mobile devices from China\n",
    "\n",
    "Note that SITC 1 is a very old classification so some modern commodities may not fit well into this schema"
   ]
  },
  {
   "cell_type": "markdown",
   "metadata": {
    "kernel": "Bash"
   },
   "source": [
    "### MongoDB"
   ]
  },
  {
   "cell_type": "markdown",
   "metadata": {
    "kernel": "Bash"
   },
   "source": [
    "Now we will import the files into MongoDB"
   ]
  },
  {
   "cell_type": "markdown",
   "metadata": {
    "kernel": "Bash"
   },
   "source": [
    "First we create a directory for MongoDB database:"
   ]
  },
  {
   "cell_type": "code",
   "execution_count": null,
   "metadata": {
    "kernel": "Bash"
   },
   "outputs": [],
   "source": [
    "mkdir -p ~/mongo"
   ]
  },
  {
   "cell_type": "markdown",
   "metadata": {
    "kernel": "Bash"
   },
   "source": [
    "And run the mongo server:"
   ]
  },
  {
   "cell_type": "code",
   "execution_count": null,
   "metadata": {
    "kernel": "Bash"
   },
   "outputs": [],
   "source": [
    "mongod -dbpath ~/mongo &"
   ]
  },
  {
   "cell_type": "markdown",
   "metadata": {
    "kernel": "Bash"
   },
   "source": [
    "And import the files into a new database called comtrade and collection called 2010s1:\n",
    "\n",
    "**DO NOT REPEAT THIS STEP MULTIPLE TIMES, YOU WILL HAVE DUPLICATE DOCUMENTS!**"
   ]
  },
  {
   "cell_type": "code",
   "execution_count": null,
   "metadata": {
    "kernel": "Bash"
   },
   "outputs": [],
   "source": [
    "for file in $comtrade/2010e/*.json;\n",
    "do mongoimport --db comtrade --collection 2010s1 $file; done"
   ]
  },
  {
   "cell_type": "markdown",
   "metadata": {
    "kernel": "Bash"
   },
   "source": [
    "Now from R, import monglite package: "
   ]
  },
  {
   "cell_type": "code",
   "execution_count": null,
   "metadata": {
    "kernel": "R"
   },
   "outputs": [],
   "source": [
    "library(mongolite)"
   ]
  },
  {
   "cell_type": "markdown",
   "metadata": {
    "kernel": "R"
   },
   "source": [
    "We create a connection object:"
   ]
  },
  {
   "cell_type": "code",
   "execution_count": null,
   "metadata": {
    "kernel": "R"
   },
   "outputs": [],
   "source": [
    "con <- mongo(collection = \"2010s1\", db = \"comtrade\")"
   ]
  },
  {
   "cell_type": "markdown",
   "metadata": {
    "kernel": "R"
   },
   "source": [
    "Select the document(s) where rtTitle is Bulgaria and return, commodity description, commodity code and TradeValue columns:"
   ]
  },
  {
   "cell_type": "code",
   "execution_count": null,
   "metadata": {
    "kernel": "R"
   },
   "outputs": [],
   "source": [
    "bulgaria_vals <- con$find('{\"dataset.rtTitle\" : \"Bulgaria\"}',\n",
    "               fields = '{\"dataset.cmdDescE\": 1, \"dataset.cmdCode\": 1, \"dataset.TradeValue\":1 }')"
   ]
  },
  {
   "cell_type": "markdown",
   "metadata": {
    "kernel": "R"
   },
   "source": [
    "The syntax of find() method has\n",
    "- The query\n",
    "- And the projection (selected fields to be returned)\n",
    "\n",
    "The fields to be returned get the value 1"
   ]
  },
  {
   "cell_type": "markdown",
   "metadata": {
    "kernel": "R"
   },
   "source": [
    "Let's view the structure of the return value:"
   ]
  },
  {
   "cell_type": "code",
   "execution_count": null,
   "metadata": {
    "kernel": "R"
   },
   "outputs": [],
   "source": [
    "str(bulgaria_vals)"
   ]
  },
  {
   "cell_type": "markdown",
   "metadata": {
    "kernel": "R"
   },
   "source": [
    "And view only the dataset:"
   ]
  },
  {
   "cell_type": "code",
   "execution_count": null,
   "metadata": {
    "kernel": "R"
   },
   "outputs": [],
   "source": [
    "bulgaria_vals$dataset"
   ]
  },
  {
   "cell_type": "markdown",
   "metadata": {
    "kernel": "R"
   },
   "source": [
    "Now we will find those partner countries of Turkey with which Turkey made exports of more than USD 10 bio in 2010: "
   ]
  },
  {
   "cell_type": "code",
   "execution_count": null,
   "metadata": {
    "kernel": "R"
   },
   "outputs": [],
   "source": [
    "sapply(large_trade$dataset, function(x) x$ptTitle[1])"
   ]
  },
  {
   "cell_type": "code",
   "execution_count": null,
   "metadata": {
    "kernel": "R"
   },
   "outputs": [],
   "source": [
    "export_651 <- con$find('{\n",
    "\"dataset\":\n",
    "{ \"$elemMatch\":\n",
    "\n",
    "{ \"$and\": [\n",
    "    { \"rtTitle\" : \"Turkey\" },\n",
    "    { \"cmdCode\" : \"651\" },\n",
    "    { \"TradeValue\" : { \"$gt\": 50000000 } },\n",
    "    { \"ptTitle\" : { \"$ne\" : \"World\" } },\n",
    "    { \"rgCode\" : 2 }\n",
    "\n",
    "] } } }',\n",
    "               fields = '{\"dataset.ptTitle\": 1,\n",
    "                            \"dataset.rgCode\": 1,\n",
    "                            \"dataset.cmdDescE\": 1,\n",
    "                            \"dataset.cmdCode\": 1,\n",
    "                            \"dataset.TradeValue\":1 }')"
   ]
  },
  {
   "cell_type": "code",
   "execution_count": null,
   "metadata": {
    "kernel": "R"
   },
   "outputs": [],
   "source": [
    "str(export_651)"
   ]
  },
  {
   "cell_type": "code",
   "execution_count": null,
   "metadata": {
    "kernel": "R"
   },
   "outputs": [],
   "source": [
    "export_651_2 <- do.call(rbind, export_651$dataset)\n",
    "with(export_651_2, export_651_2[rgCode == \"2\" & cmdCode == \"651\",]) "
   ]
  },
  {
   "cell_type": "markdown",
   "metadata": {
    "kernel": "R"
   },
   "source": [
    "**EXERCISE 3:**\n",
    "\n",
    "Select those countries for which Turkey has at least USD 5 bio exports"
   ]
  },
  {
   "cell_type": "code",
   "execution_count": null,
   "metadata": {
    "kernel": "R"
   },
   "outputs": [],
   "source": []
  },
  {
   "cell_type": "markdown",
   "metadata": {
    "kernel": "R"
   },
   "source": [
    "**SOLUTION 3:**"
   ]
  },
  {
   "cell_type": "code",
   "execution_count": null,
   "metadata": {
    "kernel": "R"
   },
   "outputs": [],
   "source": [
    "pass <- readline(prompt = \"Please enter the password for the solution: \")\n",
    "encrypt <- \"U2FsdGVkX1/cPhgJB5HjYQ4xWOnuyfs5vKrofNpNlV9UHETg+d+KYoLJw7Py0t9p ap3m5rxDCl7JtmwH6VZKMf5sfooPDhhAnI5YXHJJmAc78U5ZYT/aVL75466bi6Te ic4Yd4uM1jcyblnj9LAp2n76eyGFFaEmAY2hmwn+uaDbk91xTNTYnE0gNqmjMJHs t60XDU19QfOTF8YUyG1cbYQwGqMp4k9u1o45Co5f4BRH8aWrgdCp1NBCd+X2itsl ujQYQ45+dnj7D01iezb9gPxvWiEMT+rIP7rWEQh8+wg/mIRR0zctqwk0xrIXLSNo /q1RCrw8DTaoqX5De3EZXxFzWNsw81+/9eehspVmosb9KnoNEKfZzgj99dm/ICDq 8uf9bqxZ373tN6oC23znD1vndhDPVl9KbwoNHjLa9Cb+Do5qoQqQ+hxEnDQm9I96 jai0dRPTnf5RXeb4Zs4Us3+8wahR3gm797WU/qJVIymbZH+5DjSID27XCI2WinPi\"\n",
    "solution <- system(sprintf(\"echo %s | openssl enc -md sha256 -aes-128-cbc -a -d -salt -pass pass:%s 2> /dev/null\", encrypt, pass), intern = T, ignore.stderr = T)\n",
    "cat(solution, sep = \"\\n\")\n",
    "eval(parse(text = solution))"
   ]
  },
  {
   "cell_type": "markdown",
   "metadata": {
    "kernel": "Bash"
   },
   "source": [
    "## Working with XML/HTML Objects"
   ]
  },
  {
   "cell_type": "code",
   "execution_count": null,
   "metadata": {
    "kernel": "R"
   },
   "outputs": [],
   "source": []
  }
 ],
 "metadata": {
  "kernelspec": {
   "display_name": "SoS",
   "language": "sos",
   "name": "sos"
  },
  "language_info": {
   "codemirror_mode": "sos",
   "file_extension": ".sos",
   "mimetype": "text/x-sos",
   "name": "sos",
   "nbconvert_exporter": "sos_notebook.converter.SoS_Exporter",
   "pygments_lexer": "sos"
  },
  "sos": {
   "kernels": [],
   "panel": {
    "displayed": true,
    "height": 0,
    "style": "side"
   },
   "version": "0.17.2"
  },
  "toc": {
   "base_numbering": 1,
   "nav_menu": {},
   "number_sections": true,
   "sideBar": true,
   "skip_h1_title": false,
   "title_cell": "Table of Contents",
   "title_sidebar": "Contents",
   "toc_cell": false,
   "toc_position": {},
   "toc_section_display": "block",
   "toc_window_display": false
  }
 },
 "nbformat": 4,
 "nbformat_minor": 2
}
